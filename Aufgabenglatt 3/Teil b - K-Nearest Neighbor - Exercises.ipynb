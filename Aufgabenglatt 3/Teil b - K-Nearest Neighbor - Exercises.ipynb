{
 "cells": [
  {
   "cell_type": "markdown",
   "metadata": {},
   "source": [
    "# K-Nearest Neighbor (KNN)"
   ]
  },
  {
   "cell_type": "markdown",
   "metadata": {},
   "source": [
    "Ziel der vorliegenden Aufgabe ist es einen KNN-Kassifikator zu implementieren und auf den Titanic Datensatz anzuwenden. Dabei sollen Sie insbesondere untersuchen welcher Merkmalsraum und welches Ähnlichkeitsmaß für diese Aufgabe geeignet ist. \n",
    "\n",
    "Der KNN-Klassifikator ist eine einfache, parameterfreie Methode, bei welcher zu jedem Testvektor $\\vec x_q$ die $k$-nächsten-Nachbarn, $\\{\\vec {x_t^1}...\\vec {x_t^k}\\}$ im Trainingsbestand, unter Berücksichtigung eines frei zu definierenden Ähnlichkeitsmaß, ermittelt werden. Die Klassenzugehörigkeit wird über einen einfachen Mehrheitsentscheid der nächsten $k$-Nachbarn für $\\vec x_q$ prädiziert (siehe auch https://en.wikipedia.org/wiki/K-nearest_neighbors_algorithm)."
   ]
  },
  {
   "cell_type": "markdown",
   "metadata": {},
   "source": [
    "### Imports"
   ]
  },
  {
   "cell_type": "code",
   "execution_count": 1,
   "metadata": {},
   "outputs": [],
   "source": [
    "import numpy as np\n",
    "import csv as csv\n",
    "import matplotlib.pyplot as plt\n",
    "import pandas as pd\n",
    "import itertools\n",
    "%matplotlib inline"
   ]
  },
  {
   "cell_type": "markdown",
   "metadata": {},
   "source": [
    "### Daten einlesen"
   ]
  },
  {
   "cell_type": "code",
   "execution_count": 2,
   "metadata": {},
   "outputs": [],
   "source": [
    "DATA_FILE = './Data/original_titanic.csv'"
   ]
  },
  {
   "cell_type": "markdown",
   "metadata": {},
   "source": [
    "### Vorbereitungen\n",
    "\n",
    "Führen Sie hier folgende Bearbeitungsschritte durch:\n",
    "* (1) Datenlücken interpolieren,\n",
    "* (2) Datensatz stochastisch verändern, \n",
    "* (3) Aufteilung in Trainings- und Testdatensatz.\n",
    "\n",
    "Sie können Ihre Implementierungen der vorherigen Arbeitsblätter nutzen."
   ]
  },
  {
   "cell_type": "code",
   "execution_count": 3,
   "metadata": {},
   "outputs": [
    {
     "name": "stdout",
     "output_type": "stream",
     "text": [
      "False    1046\n",
      "True      263\n",
      "Name: Age, dtype: int64\n",
      "False    1309\n",
      "Name: Age, dtype: int64\n",
      "    \n",
      "262\n",
      "False    262\n",
      "Name: Age, dtype: int64\n",
      "False    1308\n",
      "True        1\n",
      "Name: Fare, dtype: int64\n"
     ]
    }
   ],
   "source": [
    "df = pd.read_csv(DATA_FILE, header=0)\n",
    "\n",
    "def prepareData(df):\n",
    "    df.loc[(((df.Sex == \"male\")   &(df.Survived == 0)) & (df.Pclass==1)) & df.Age.isnull(),\"Age\"] =  df.loc[((df.Sex == \"male\")   &(df.Survived == 0)) & (df.Pclass==1), \"Age\"].mean()\n",
    "    df.loc[(((df.Sex == \"male\")   &(df.Survived == 0)) & (df.Pclass==2)) & df.Age.isnull(),\"Age\"] =  df.loc[((df.Sex == \"male\")   &(df.Survived == 0)) & (df.Pclass==2), \"Age\"].mean()\n",
    "    df.loc[(((df.Sex == \"male\")   &(df.Survived == 0)) & (df.Pclass==3)) & df.Age.isnull(),\"Age\"] =  df.loc[((df.Sex == \"male\")   &(df.Survived == 0)) & (df.Pclass==3), \"Age\"].mean()\n",
    "    \n",
    "    df.loc[(((df.Sex == \"male\")   &(df.Survived == 1)) & (df.Pclass==1)) & df.Age.isnull(),\"Age\"] =  df.loc[((df.Sex == \"male\")   &(df.Survived == 1)) & (df.Pclass==1), \"Age\"].mean()\n",
    "    df.loc[(((df.Sex == \"male\")   &(df.Survived == 1)) & (df.Pclass==2)) & df.Age.isnull(),\"Age\"] =  df.loc[((df.Sex == \"male\")   &(df.Survived == 1)) & (df.Pclass==2), \"Age\"].mean()\n",
    "    df.loc[(((df.Sex == \"male\")   &(df.Survived == 1)) & (df.Pclass==3)) & df.Age.isnull(),\"Age\"] =  df.loc[((df.Sex == \"male\")   &(df.Survived == 1)) & (df.Pclass==3), \"Age\"].mean()\n",
    "    \n",
    "    \n",
    "    df.loc[(((df.Sex == \"female\") &(df.Survived == 0)) & (df.Pclass==1)) & df.Age.isnull(),\"Age\"] =  df.loc[((df.Sex == \"female\") &(df.Survived == 0)) & (df.Pclass==1), \"Age\"].mean()\n",
    "    df.loc[(((df.Sex == \"female\") &(df.Survived == 0)) & (df.Pclass==2)) & df.Age.isnull(),\"Age\"] =  df.loc[((df.Sex == \"female\") &(df.Survived == 0)) & (df.Pclass==2), \"Age\"].mean()\n",
    "    df.loc[(((df.Sex == \"female\") &(df.Survived == 0)) & (df.Pclass==3)) & df.Age.isnull(),\"Age\"] =  df.loc[((df.Sex == \"female\") &(df.Survived == 0)) & (df.Pclass==3), \"Age\"].mean()\n",
    "    \n",
    "    df.loc[(((df.Sex == \"female\") &(df.Survived == 1)) & (df.Pclass==1)) & df.Age.isnull(),\"Age\"] =  df.loc[((df.Sex == \"female\") &(df.Survived == 1)) & (df.Pclass==1), \"Age\"].mean()\n",
    "    df.loc[(((df.Sex == \"female\") &(df.Survived == 1)) & (df.Pclass==2)) & df.Age.isnull(),\"Age\"] =  df.loc[((df.Sex == \"female\") &(df.Survived == 1)) & (df.Pclass==2), \"Age\"].mean()\n",
    "    df.loc[(((df.Sex == \"female\") &(df.Survived == 1)) & (df.Pclass==3)) & df.Age.isnull(),\"Age\"] =  df.loc[((df.Sex == \"female\") &(df.Survived == 1)) & (df.Pclass==3), \"Age\"].mean()\n",
    "    return df\n",
    "\n",
    "print(df.Age.isnull().value_counts())\n",
    "\n",
    "df = prepareData(df)\n",
    "df_shuffled = df.sample(frac=1) \n",
    "df_train = df_shuffled[:int(len(df_shuffled)* 0.8)] \n",
    "df_test  =  df_shuffled[int(len(df_shuffled)* 0.8):] \n",
    "print(df.Age.isnull().value_counts())\n",
    "print(\"    \")\n",
    "print(len(df_test))\n",
    "print(df_test.Age.isnull().value_counts())\n",
    "print(df.Fare.isnull().value_counts())\n"
   ]
  },
  {
   "cell_type": "markdown",
   "metadata": {},
   "source": [
    "### Merkmale standardisieren\n",
    "Die <i>Standardisierung</i> verleiht den Daten die Eigenschaften einer Standardnormalverteilung. Der Mittelwert jeder Merkmalsspalte beträgt 0, die Standardabweichung jeder Merkmalsspalte beträgt 1. Um zum Beispiel das Merkmal j zu standardiesieren, wird der Mittelwert $\\mu$ der jeweiligen Stichprobe abgezogen und das Ergebnis durch die Standardabweichung $\\sigma$ dividiert. Das Standardisierungsverfahren wird auf die Merkmalsspalten der Datenmenge einzeln angewendet. Siehe auch: https://en.wikipedia.org/wiki/Standard_score <br>\n",
    "\n",
    "$x_j^{\\prime(i)} = \\frac{x_j^{(i)} - \\mu_j}{\\sigma_j}$. \n",
    "\n",
    "Implementieren sie die Funktion <b>normalize()</b> welche die Standardisierung (anhand Mittelwert und Standardabweichung) des Trainingsdatensatzes durchführt. Die Methoden-Parameter können Sie entsprechend Ihrer Implementierung erweitern. Überlegen Sie sich hierbei, welche Merkmale zur Standardisierung geeignet sind und welche nicht. Sie können Ihre Implementierung testen, indem Sie die Werte Mittelwert und Standardabweichung Ihrer standardisierten Merkmalsspalten prüfen. Der Mittelwert sollte 0 sein, die Standardabweichung 1. Geben Sie die Wertre aus.\n",
    "\n",
    "Speichern Sie sich hierbei die Werte für Mittelwert und Standardabweichung des Trainingsdatensatzes in einer geeigneten Datenstruktur. Führen sie die Standardisierung des Testdatensatzes anhand der Werte von Mittelwert und Standardabweichung vom Trainingsdatensatzes durch. <br>\n",
    "\n",
    "<b>Wichtiger Hinweis</b>: Implementieren Sie die Funktion eigenständig, eine Standard-Funktion aus einem Framework ist nicht zulässig, wie bspw. *sklearn.preprocessing.StandardScaler*. Zum Testen Ihrer Implementierung können Sie diese Funktion nutzen. Standard-Funktion zur Berechnung von *Mittelwert* und *Standardabweichung* sind selbstverständlich zugelassen. "
   ]
  },
  {
   "cell_type": "code",
   "execution_count": 4,
   "metadata": {},
   "outputs": [
    {
     "name": "stdout",
     "output_type": "stream",
     "text": [
      "       PassengerId     Survived       Pclass           Age        SibSp  \\\n",
      "count  1047.000000  1047.000000  1047.000000  1.047000e+03  1047.000000   \n",
      "mean    651.955110     0.388730     2.288443 -4.496032e-17     0.481375   \n",
      "std     375.378148     0.487695     0.837054  1.000000e+00     1.008277   \n",
      "min       1.000000     0.000000     1.000000 -2.202173e+00     0.000000   \n",
      "25%     326.500000     0.000000     2.000000 -5.638108e-01     0.000000   \n",
      "50%     651.000000     0.000000     3.000000 -2.126034e-01     0.000000   \n",
      "75%     976.500000     1.000000     3.000000  5.431909e-01     1.000000   \n",
      "max    1309.000000     1.000000     3.000000  3.789145e+00     8.000000   \n",
      "\n",
      "             Parch          Fare  \n",
      "count  1047.000000  1.046000e+03  \n",
      "mean      0.366762  1.553888e-16  \n",
      "std       0.819903  1.000000e+00  \n",
      "min       0.000000 -6.744511e-01  \n",
      "25%       0.000000 -5.073848e-01  \n",
      "50%       0.000000 -3.686163e-01  \n",
      "75%       0.000000 -1.852555e-02  \n",
      "max       9.000000  1.016587e+01  \n",
      "       PassengerId    Survived      Pclass           Age       SibSp  \\\n",
      "count   262.000000  262.000000  262.000000  2.620000e+02  262.000000   \n",
      "mean    667.167939    0.354962    2.320611  2.237396e-16    0.568702   \n",
      "std     388.892989    0.479418    0.842066  1.000000e+00    1.165045   \n",
      "min       5.000000    0.000000    1.000000 -2.208956e+00    0.000000   \n",
      "25%     337.750000    0.000000    2.000000 -5.488155e-01    0.000000   \n",
      "50%     656.500000    0.000000    3.000000 -1.818448e-01    0.000000   \n",
      "75%     992.750000    1.000000    3.000000  5.490571e-01    1.000000   \n",
      "max    1305.000000    1.000000    3.000000  2.823222e+00    8.000000   \n",
      "\n",
      "            Parch          Fare  \n",
      "count  262.000000  2.620000e+02  \n",
      "mean     0.458015  5.762990e-17  \n",
      "std      1.026541  1.000000e+00  \n",
      "min      0.000000 -5.852957e-01  \n",
      "25%      0.000000 -4.666905e-01  \n",
      "50%      0.000000 -3.681748e-01  \n",
      "75%      1.000000 -7.597968e-02  \n",
      "max      9.000000  7.110556e+00  \n"
     ]
    }
   ],
   "source": [
    "def normalize_colummn(feature):\n",
    "    mean = feature.mean()\n",
    "    std = feature.std()\n",
    "    feature_array = feature.to_numpy()\n",
    "    \n",
    "    for index in range(len(feature_array)):\n",
    "        feature_array[index] = (float(feature_array[index]) - mean) / std\n",
    "        #print(float(feature_array[index]) - mean, feature_array[index])\n",
    "    return pd.DataFrame(feature_array)\n",
    "\n",
    "    \n",
    "def normalize(df):\n",
    "    new_dataFrame = df.copy()\n",
    "    new_dataFrame.assign(Age=normalize_colummn(new_dataFrame.Age))\n",
    "    new_dataFrame.assign(Fare=normalize_colummn(new_dataFrame.Fare))\n",
    "    return  new_dataFrame # TODO implement\n",
    "\n",
    "df_train_norm = normalize(df_train) # TODO : implement\n",
    "df_test_norm =  normalize(df_test) # TODO : implement\n",
    "print(df_train_norm.describe())\n",
    "print(df_test_norm.describe())\n",
    "\n",
    "\n",
    "\n"
   ]
  },
  {
   "cell_type": "markdown",
   "metadata": {},
   "source": [
    "### Merkmalsraum definieren\n",
    "Unabhängig von der eingesetzten Methodik zur Klassifikation ist es wichtig, dass Sie sich Gedanken über den Merkmalsraum machen. Konkret bedeutet das, dass sie definieren müssen wie ein Merkmalsvektor aussieht und mit welchem Ähnlichkeitsmaß Merkmalsvektoren verglichen werden. Sie sollten sich dabei mit den folgenden Fragen auseinander setzen:\n",
    "* Welche einzelnen Attribute aus einem Objekt des Datensatzes sollen verwendet werden?\n",
    "* Welche Probleme ergeben sich aufgrund von unterschiedlichen Skalenniveaus der Attribute? Wie können Sie diesen begegnen? \n",
    "* Wie gehen Sie mit kategoriellen Merkmalen um?\n",
    "* Welches Ähnlichkeitsmaß setzen Sie ein? "
   ]
  },
  {
   "cell_type": "markdown",
   "metadata": {},
   "source": [
    "### Merkmalsvektor extrahieren und normalisieren bzw. standardisieren\n",
    "Schreiben sie eine Methode welche aus einer gegebenen Datenreihe einen Merkmalsvektor extrahiert. D.h. der Input ist eine Reihe aus dem Datensatz, der Rückgabewert ein Vektor bestehend aus den Daten."
   ]
  },
  {
   "cell_type": "code",
   "execution_count": 5,
   "metadata": {},
   "outputs": [],
   "source": [
    "def extractFeatureVector(row):\n",
    "    # TODO : implement\n",
    "    return np.array([row.Fare, row.Age])"
   ]
  },
  {
   "cell_type": "markdown",
   "metadata": {},
   "source": [
    "Testen Sie die Funktion auf einem beliebigen Objekt des Datensatzes. Überprüfen Sie ob das Resultat Ihren Erwartungen entspricht. "
   ]
  },
  {
   "cell_type": "code",
   "execution_count": 6,
   "metadata": {},
   "outputs": [
    {
     "data": {
      "text/plain": [
       "<matplotlib.axes._subplots.AxesSubplot at 0x7fe200658710>"
      ]
     },
     "execution_count": 6,
     "metadata": {},
     "output_type": "execute_result"
    },
    {
     "data": {
      "image/png": "[encoded data removed]",
      "text/plain": [
       "<Figure size 432x288 with 1 Axes>"
      ]
     },
     "metadata": {
      "needs_background": "light"
     },
     "output_type": "display_data"
    }
   ],
   "source": [
    "extractFeatureVector(df_train_norm.iloc[0])\n",
    "points = []\n",
    "y = []\n",
    "x = []\n",
    "for index, row in df_train_norm.iterrows():\n",
    "    points.append(extractFeatureVector(row))\n",
    "    y.append(extractFeatureVector(row)[0])\n",
    "    x.append(extractFeatureVector(row)[1])\n",
    "data = {'Fare': y, 'Age': x}\n",
    "\n",
    "new_frame = pd.DataFrame(data)\n",
    "new_frame.plot.scatter(x = \"Age\", y = \"Fare\", marker = \",\",s= 1)\n"
   ]
  },
  {
   "cell_type": "markdown",
   "metadata": {},
   "source": [
    "Wenn Sie einen nieder-dimensionalen Merkmalsraum, bspw. zwei-dimensional, gewählt haben, lässt sich dieser sehr komfortabel visualisieren. Zum Beispiel:"
   ]
  },
  {
   "cell_type": "markdown",
   "metadata": {},
   "source": [
    "<img src=\"./Figures/titanic-nieder-dimensional.png\" alt=\"drawing\" style=\"width:400px;\"/>"
   ]
  },
  {
   "cell_type": "markdown",
   "metadata": {},
   "source": [
    "## Implementierung\n",
    "Die Implementierung erfolgt innerhalb der Klasse <b>KNN</b>. Im folgenden werden die einzelnen Methoden und deren Funktionsweise kurz vorgestellt. <br>\n",
    "\n",
    "\n",
    "### Konstruktor\n",
    "Das KNN-Objekt wird mit dem Wert <b>k</b> initialisiert. Dieser bestimmt die Anzahl der zu betrachtenden Nachbarn. Wählen Sie k=3 als Wert.\n",
    "\n",
    "\n",
    "### distance()-Methode:\n",
    "In dieser Methode gilt es eine Funktion zu implementieren, welche die Ähnlichkeit zweier Merkmalsvektoren vergleicht. Diese Methode soll die Ähnlichkeit der zwei Merkmalsvektoren, welche als Methoden-Parameter übergeben werden, bestimmen. Wählen Sie hierbei die aus der Vorlesung bekannten Distanz-Funktionen wie bspw. *Euklidische Distanz*, *Manhatten Distanz*, *Minkovski Distanz* etc. <br>\n",
    "\n",
    "<b>Auch hier gilt</b>: Implementieren Sie die Funktion eigenständig, eine Standard-Funktion aus einem Framework ist nicht zulässig, wie bspw. *sklearn.metrics.pairwise.euclidean_distances*. Zum Testen Ihrer Implementierung können Sie diese Funktionen nutzen.\n",
    "\n",
    "\n",
    "### fit()-Methode:\n",
    "Als Methoden-Parameter dient der normierte Trainingsdatensatz. In dieser Methode soll das Modell anhand der Trainingsdaten gebildet werden mit dem entsprechenden zuvor definierten Merkmalsvektor. <br>\n",
    "Stellen Sie sicher, dass in der Liste <b>self.trainData</b> die Merkmalsvektoren aus dem Trainingsdatensatz enthalten sind. <br>\n",
    "Stellen sie sicher, dass in der Liste <b>self.trainLabel</b> die Zielwerte des Merkmals *survived* aus dem Trainingsdatensatz enthalten sind.\n",
    "\n",
    "\n",
    "### predict()-Methode:\n",
    "Als Methoden-Parameter dient ein Merkmalsvektor. Implementieren Sie den in der Vorlesung besprochenen Algorithmus für den KNN-Klassifikator. Der Rückgabewert der Methode ist die entsprechende Mehrheits-Entscheidung."
   ]
  },
  {
   "cell_type": "code",
   "execution_count": 29,
   "metadata": {},
   "outputs": [],
   "source": [
    "class KNN(object):\n",
    "    \n",
    "    def __init__(self, k):\n",
    "        self.k = k\n",
    "\n",
    "    def distance(self, vector1,vector2):\n",
    "        #Manhattan\n",
    "        vector1 = np.array(vector1)\n",
    "        vector2 = np.array(vector2)\n",
    "        sub_array = []\n",
    "        for i in range(len(vector1)):\n",
    "            sub_array.append(np.absolute(vector1[i] - vector2[i]))\n",
    "\n",
    "        return np.sum(sub_array)\n",
    "    \n",
    "    \n",
    "    def fit(self, df):\n",
    "        self.trainData = []\n",
    "        self.trainLabel = []\n",
    "        for index, row in df.iterrows():\n",
    "            self.trainData.append(extractFeatureVector(row))\n",
    "            self.trainLabel.append(row.Survived)\n",
    "        \n",
    "        # TODO: implement\n",
    "\n",
    "    def predict(self, x):\n",
    "        x = np.array(x)\n",
    "        dis_to_x = []\n",
    "        for i in range(len(self.trainData)):\n",
    "            dis_to_x.append({\"d\" : self.distance(x,self.trainData[i]), \"s\":self.trainLabel[i] })\n",
    "        sorted_dis = sorted(dis_to_x, key = lambda i: i['d'])\n",
    "        k_sorted =  sorted_dis[:self.k]\n",
    "        print(len(k_sorted))\n",
    "        \n",
    "        k_results = []\n",
    "\n",
    "        for i in k_sorted:\n",
    "            k_results.append(i[\"s\"])\n",
    "        return max(k_results,key=k_results.count)\n"
   ]
  },
  {
   "cell_type": "markdown",
   "metadata": {},
   "source": [
    "## Training und Test des Algorithmus\n",
    "\n",
    "Führen die Modellbildung (\"Training\") anhand der KNN-Klasse und der <b>fit()</b>-Methode durch. <br>\n",
    "Die <b>predict()</b>-Methode soll einen Merkmalsvektor $\\vec x_q$  auf die entsprechende Klassenzugehörigkeit $l \\in \\{0,1\\}$ abbilden. <br>\n",
    "Testen Sie die <b>predict()</b>-Methode mit den von ihnen gewählten Merkmalsvektoren ( _Hinweis_ : Einsatz der <b>extractFeatureVector()</b>-Methode) aus dem normierten Testdatensatz. Ermitteln sie hierzu die Korreklassifizierungsrate."
   ]
  },
  {
   "cell_type": "code",
   "execution_count": 32,
   "metadata": {},
   "outputs": [
    {
     "name": "stdout",
     "output_type": "stream",
     "text": [
      "3\n",
      "[0, 0, 0]\n",
      "0\n",
      "PassengerId                     1060\n",
      "Survived                           0\n",
      "Pclass                             3\n",
      "Name           Niklasson, Mr. Samuel\n",
      "Sex                             male\n",
      "Age                       -0.0782986\n",
      "SibSp                              0\n",
      "Parch                              0\n",
      "Ticket                        363611\n",
      "Fare                       -0.464374\n",
      "Cabin                            NaN\n",
      "Embarked                           S\n",
      "Home-Dest                        NaN\n",
      "Name: 1059, dtype: object\n"
     ]
    }
   ],
   "source": [
    "# TODO: implement\n",
    "knn = KNN(3)\n",
    "knn.fit(df_train_norm)\n",
    "knn.predict(extractFeatureVector(df_test_norm.iloc[11]))\n",
    "print(df_test_norm.iloc[11])"
   ]
  },
  {
   "cell_type": "markdown",
   "metadata": {},
   "source": [
    "## Weitere Evaluation\n",
    "Untersuchen Sie wie sich die Klassifikationsleistung in Abhängigkeit von verschiedenen Änhlichkeitsmaßen bzw. Merkmalsvektoren verhält. "
   ]
  },
  {
   "cell_type": "code",
   "execution_count": 9,
   "metadata": {},
   "outputs": [],
   "source": [
    "# TODO: implement"
   ]
  }
 ],
 "metadata": {
  "kernelspec": {
   "display_name": "Python 3",
   "language": "python",
   "name": "python3"
  },
  "language_info": {
   "codemirror_mode": {
    "name": "ipython",
    "version": 3
   },
   "file_extension": ".py",
   "mimetype": "text/x-python",
   "name": "python",
   "nbconvert_exporter": "python",
   "pygments_lexer": "ipython3",
   "version": "3.7.7"
  }
 },
 "nbformat": 4,
 "nbformat_minor": 2
}
