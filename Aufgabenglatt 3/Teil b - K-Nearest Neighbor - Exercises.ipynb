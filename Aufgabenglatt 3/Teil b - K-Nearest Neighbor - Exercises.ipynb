{
 "cells": [
  {
   "cell_type": "markdown",
   "metadata": {},
   "source": [
    "# K-Nearest Neighbor (KNN)"
   ]
  },
  {
   "cell_type": "markdown",
   "metadata": {},
   "source": [
    "Ziel der vorliegenden Aufgabe ist es einen KNN-Kassifikator zu implementieren und auf den Titanic Datensatz anzuwenden. Dabei sollen Sie insbesondere untersuchen welcher Merkmalsraum und welches Ähnlichkeitsmaß für diese Aufgabe geeignet ist. \n",
    "\n",
    "Der KNN-Klassifikator ist eine einfache, parameterfreie Methode, bei welcher zu jedem Testvektor $\\vec x_q$ die $k$-nächsten-Nachbarn, $\\{\\vec {x_t^1}...\\vec {x_t^k}\\}$ im Trainingsbestand, unter Berücksichtigung eines frei zu definierenden Ähnlichkeitsmaß, ermittelt werden. Die Klassenzugehörigkeit wird über einen einfachen Mehrheitsentscheid der nächsten $k$-Nachbarn für $\\vec x_q$ prädiziert (siehe auch https://en.wikipedia.org/wiki/K-nearest_neighbors_algorithm)."
   ]
  },
  {
   "cell_type": "markdown",
   "metadata": {},
   "source": [
    "### Imports"
   ]
  },
  {
   "cell_type": "code",
   "execution_count": 1,
   "metadata": {},
   "outputs": [],
   "source": [
    "import numpy as np\n",
    "import csv as csv\n",
    "import matplotlib.pyplot as plt\n",
    "import pandas as pd\n",
    "import itertools\n",
    "import math\n",
    "%matplotlib inline"
   ]
  },
  {
   "cell_type": "markdown",
   "metadata": {},
   "source": [
    "### Daten einlesen"
   ]
  },
  {
   "cell_type": "code",
   "execution_count": 2,
   "metadata": {},
   "outputs": [],
   "source": [
    "DATA_FILE = './Data/original_titanic.csv'"
   ]
  },
  {
   "cell_type": "markdown",
   "metadata": {},
   "source": [
    "### Vorbereitungen\n",
    "\n",
    "Führen Sie hier folgende Bearbeitungsschritte durch:\n",
    "* (1) Datenlücken interpolieren,\n",
    "* (2) Datensatz stochastisch verändern, \n",
    "* (3) Aufteilung in Trainings- und Testdatensatz.\n",
    "\n",
    "Sie können Ihre Implementierungen der vorherigen Arbeitsblätter nutzen."
   ]
  },
  {
   "cell_type": "code",
   "execution_count": 3,
   "metadata": {},
   "outputs": [],
   "source": [
    "df = pd.read_csv(DATA_FILE, header=0)\n",
    "\n",
    "def prepareData(df):\n",
    "    df.loc[(((df.Sex == \"male\")   &(df.Survived == 0)) & (df.Pclass==1)) & df.Age.isnull(),\"Age\"] =  df.loc[((df.Sex == \"male\")   &(df.Survived == 0)) & (df.Pclass==1), \"Age\"].mean()\n",
    "    df.loc[(((df.Sex == \"male\")   &(df.Survived == 0)) & (df.Pclass==2)) & df.Age.isnull(),\"Age\"] =  df.loc[((df.Sex == \"male\")   &(df.Survived == 0)) & (df.Pclass==2), \"Age\"].mean()\n",
    "    df.loc[(((df.Sex == \"male\")   &(df.Survived == 0)) & (df.Pclass==3)) & df.Age.isnull(),\"Age\"] =  df.loc[((df.Sex == \"male\")   &(df.Survived == 0)) & (df.Pclass==3), \"Age\"].mean()\n",
    "    \n",
    "    df.loc[(((df.Sex == \"male\")   &(df.Survived == 1)) & (df.Pclass==1)) & df.Age.isnull(),\"Age\"] =  df.loc[((df.Sex == \"male\")   &(df.Survived == 1)) & (df.Pclass==1), \"Age\"].mean()\n",
    "    df.loc[(((df.Sex == \"male\")   &(df.Survived == 1)) & (df.Pclass==2)) & df.Age.isnull(),\"Age\"] =  df.loc[((df.Sex == \"male\")   &(df.Survived == 1)) & (df.Pclass==2), \"Age\"].mean()\n",
    "    df.loc[(((df.Sex == \"male\")   &(df.Survived == 1)) & (df.Pclass==3)) & df.Age.isnull(),\"Age\"] =  df.loc[((df.Sex == \"male\")   &(df.Survived == 1)) & (df.Pclass==3), \"Age\"].mean()\n",
    "    \n",
    "    \n",
    "    df.loc[(((df.Sex == \"female\") &(df.Survived == 0)) & (df.Pclass==1)) & df.Age.isnull(),\"Age\"] =  df.loc[((df.Sex == \"female\") &(df.Survived == 0)) & (df.Pclass==1), \"Age\"].mean()\n",
    "    df.loc[(((df.Sex == \"female\") &(df.Survived == 0)) & (df.Pclass==2)) & df.Age.isnull(),\"Age\"] =  df.loc[((df.Sex == \"female\") &(df.Survived == 0)) & (df.Pclass==2), \"Age\"].mean()\n",
    "    df.loc[(((df.Sex == \"female\") &(df.Survived == 0)) & (df.Pclass==3)) & df.Age.isnull(),\"Age\"] =  df.loc[((df.Sex == \"female\") &(df.Survived == 0)) & (df.Pclass==3), \"Age\"].mean()\n",
    "    \n",
    "    df.loc[(((df.Sex == \"female\") &(df.Survived == 1)) & (df.Pclass==1)) & df.Age.isnull(),\"Age\"] =  df.loc[((df.Sex == \"female\") &(df.Survived == 1)) & (df.Pclass==1), \"Age\"].mean()\n",
    "    df.loc[(((df.Sex == \"female\") &(df.Survived == 1)) & (df.Pclass==2)) & df.Age.isnull(),\"Age\"] =  df.loc[((df.Sex == \"female\") &(df.Survived == 1)) & (df.Pclass==2), \"Age\"].mean()\n",
    "    df.loc[(((df.Sex == \"female\") &(df.Survived == 1)) & (df.Pclass==3)) & df.Age.isnull(),\"Age\"] =  df.loc[((df.Sex == \"female\") &(df.Survived == 1)) & (df.Pclass==3), \"Age\"].mean()\n",
    "    return df\n",
    "\n",
    "df = prepareData(df)\n",
    "\n",
    "#randomice order of entries\n",
    "df_shuffled = df.sample(frac=1) \n",
    "df_train = df_shuffled[:int(len(df_shuffled)* 0.8)] \n",
    "df_test  =  df_shuffled[int(len(df_shuffled)* 0.8):] \n",
    "\n"
   ]
  },
  {
   "cell_type": "markdown",
   "metadata": {},
   "source": [
    "### Merkmale standardisieren\n",
    "Die <i>Standardisierung</i> verleiht den Daten die Eigenschaften einer Standardnormalverteilung. Der Mittelwert jeder Merkmalsspalte beträgt 0, die Standardabweichung jeder Merkmalsspalte beträgt 1. Um zum Beispiel das Merkmal j zu standardiesieren, wird der Mittelwert $\\mu$ der jeweiligen Stichprobe abgezogen und das Ergebnis durch die Standardabweichung $\\sigma$ dividiert. Das Standardisierungsverfahren wird auf die Merkmalsspalten der Datenmenge einzeln angewendet. Siehe auch: https://en.wikipedia.org/wiki/Standard_score <br>\n",
    "\n",
    "$x_j^{\\prime(i)} = \\frac{x_j^{(i)} - \\mu_j}{\\sigma_j}$. \n",
    "\n",
    "Implementieren sie die Funktion <b>normalize()</b> welche die Standardisierung (anhand Mittelwert und Standardabweichung) des Trainingsdatensatzes durchführt. Die Methoden-Parameter können Sie entsprechend Ihrer Implementierung erweitern. Überlegen Sie sich hierbei, welche Merkmale zur Standardisierung geeignet sind und welche nicht. Sie können Ihre Implementierung testen, indem Sie die Werte Mittelwert und Standardabweichung Ihrer standardisierten Merkmalsspalten prüfen. Der Mittelwert sollte 0 sein, die Standardabweichung 1. Geben Sie die Wertre aus.\n",
    "\n",
    "Speichern Sie sich hierbei die Werte für Mittelwert und Standardabweichung des Trainingsdatensatzes in einer geeigneten Datenstruktur. Führen sie die Standardisierung des Testdatensatzes anhand der Werte von Mittelwert und Standardabweichung vom Trainingsdatensatzes durch. <br>\n",
    "\n",
    "<b>Wichtiger Hinweis</b>: Implementieren Sie die Funktion eigenständig, eine Standard-Funktion aus einem Framework ist nicht zulässig, wie bspw. *sklearn.preprocessing.StandardScaler*. Zum Testen Ihrer Implementierung können Sie diese Funktion nutzen. Standard-Funktion zur Berechnung von *Mittelwert* und *Standardabweichung* sind selbstverständlich zugelassen. "
   ]
  },
  {
   "cell_type": "code",
   "execution_count": 4,
   "metadata": {},
   "outputs": [
    {
     "name": "stdout",
     "output_type": "stream",
     "text": [
      "       PassengerId     Survived       Pclass           Age        SibSp  \\\n",
      "count  1047.000000  1047.000000  1047.000000  1.047000e+03  1047.000000   \n",
      "mean    652.811843     0.381089     2.290353 -3.261108e-15     0.487106   \n",
      "std     377.695293     0.485886     0.837535  1.000000e+00     1.028084   \n",
      "min       2.000000     0.000000     1.000000 -2.231799e+00     0.000000   \n",
      "25%     326.500000     0.000000     2.000000 -5.545676e-01     0.000000   \n",
      "50%     647.000000     0.000000     3.000000 -1.950280e-01     0.000000   \n",
      "75%     983.500000     1.000000     3.000000  5.210732e-01     1.000000   \n",
      "max    1308.000000     1.000000     3.000000  3.901659e+00     8.000000   \n",
      "\n",
      "             Parch          Fare  \n",
      "count  1047.000000  1.046000e+03  \n",
      "mean      0.392550 -4.325200e-18  \n",
      "std       0.905508  1.000000e+00  \n",
      "min       0.000000 -6.285582e-01  \n",
      "25%       0.000000 -4.792529e-01  \n",
      "50%       0.000000 -3.647713e-01  \n",
      "75%       0.000000 -3.716494e-02  \n",
      "max       9.000000  9.059308e+00  \n",
      "       PassengerId    Survived      Pclass           Age       SibSp  \\\n",
      "count   262.000000  262.000000  262.000000  2.620000e+02  262.000000   \n",
      "mean    663.744275    0.385496    2.312977  5.411278e-16    0.545802   \n",
      "std     379.913571    0.487644    0.840397  1.000000e+00    1.095008   \n",
      "min       1.000000    0.000000    1.000000 -2.108873e+00    0.000000   \n",
      "25%     333.500000    0.000000    2.000000 -6.396466e-01    0.000000   \n",
      "50%     697.000000    0.000000    3.000000 -2.505103e-01    0.000000   \n",
      "75%     978.000000    1.000000    3.000000  6.324888e-01    1.000000   \n",
      "max    1309.000000    1.000000    3.000000  3.284264e+00    8.000000   \n",
      "\n",
      "            Parch          Fare  \n",
      "count  262.000000  2.620000e+02  \n",
      "mean     0.354962 -1.919584e-16  \n",
      "std      0.683659  1.000000e+00  \n",
      "min      0.000000 -7.116672e-01  \n",
      "25%      0.000000 -5.438520e-01  \n",
      "50%      0.000000 -3.879365e-01  \n",
      "75%      0.750000 -6.827426e-02  \n",
      "max      4.000000  4.859627e+00  \n"
     ]
    }
   ],
   "source": [
    "#normalice data column \n",
    "def normalize_colummn(feature):\n",
    "    mean = feature.mean()\n",
    "    std = feature.std()\n",
    "    feature_array = feature.to_numpy()\n",
    "    \n",
    "    for index in range(len(feature_array)):\n",
    "        feature_array[index] = (float(feature_array[index]) - mean) / std\n",
    "        #print(float(feature_array[index]) - mean, feature_array[index])\n",
    "    return pd.DataFrame(feature_array)\n",
    "\n",
    "#normalize Age and Fare    \n",
    "def normalize(df):\n",
    "    new_dataFrame = df.copy()\n",
    "    new_dataFrame.assign(Age=normalize_colummn(new_dataFrame.Age))\n",
    "    new_dataFrame.assign(Fare=normalize_colummn(new_dataFrame.Fare))\n",
    "    return  new_dataFrame # TODO implement\n",
    "\n",
    "#normalize data\n",
    "df_train_norm = normalize(df_train)\n",
    "print(df_train_norm.describe())\n",
    "\n",
    "df_test_norm =  normalize(df_test)\n",
    "print(df_test_norm.describe())\n",
    "\n",
    "\n",
    "\n"
   ]
  },
  {
   "cell_type": "markdown",
   "metadata": {},
   "source": [
    "### Merkmalsraum definieren\n",
    "Unabhängig von der eingesetzten Methodik zur Klassifikation ist es wichtig, dass Sie sich Gedanken über den Merkmalsraum machen. Konkret bedeutet das, dass sie definieren müssen wie ein Merkmalsvektor aussieht und mit welchem Ähnlichkeitsmaß Merkmalsvektoren verglichen werden. Sie sollten sich dabei mit den folgenden Fragen auseinander setzen:\n",
    "* Welche einzelnen Attribute aus einem Objekt des Datensatzes sollen verwendet werden?\n",
    "* Welche Probleme ergeben sich aufgrund von unterschiedlichen Skalenniveaus der Attribute? Wie können Sie diesen begegnen? \n",
    "* Wie gehen Sie mit kategoriellen Merkmalen um?\n",
    "* Welches Ähnlichkeitsmaß setzen Sie ein? "
   ]
  },
  {
   "cell_type": "markdown",
   "metadata": {},
   "source": [
    "### Merkmalsvektor extrahieren und normalisieren bzw. standardisieren\n",
    "Schreiben sie eine Methode welche aus einer gegebenen Datenreihe einen Merkmalsvektor extrahiert. D.h. der Input ist eine Reihe aus dem Datensatz, der Rückgabewert ein Vektor bestehend aus den Daten."
   ]
  },
  {
   "cell_type": "code",
   "execution_count": 5,
   "metadata": {},
   "outputs": [],
   "source": [
    "#create FeatureVectore by Sex Age and Pclass\n",
    "def extractFeatureVector(row):\n",
    "    if row.Sex == \"male\":\n",
    "        sex = 1\n",
    "    else:\n",
    "        sex = 0\n",
    "    return np.array([sex, row.Age, row.Pclass])"
   ]
  },
  {
   "cell_type": "markdown",
   "metadata": {},
   "source": [
    "Testen Sie die Funktion auf einem beliebigen Objekt des Datensatzes. Überprüfen Sie ob das Resultat Ihren Erwartungen entspricht. "
   ]
  },
  {
   "cell_type": "code",
   "execution_count": 6,
   "metadata": {},
   "outputs": [
    {
     "name": "stdout",
     "output_type": "stream",
     "text": [
      "[ 1.       -0.195028  3.      ]\n"
     ]
    },
    {
     "data": {
      "text/plain": [
       "<matplotlib.axes._subplots.AxesSubplot at 0x1c523b3a6c8>"
      ]
     },
     "execution_count": 6,
     "metadata": {},
     "output_type": "execute_result"
    },
    {
     "data": {
      "image/png": "[encoded data removed]",
      "text/plain": [
       "<Figure size 432x288 with 1 Axes>"
      ]
     },
     "metadata": {
      "needs_background": "light"
     },
     "output_type": "display_data"
    },
    {
     "data": {
      "image/png": "[encoded data removed]",
      "text/plain": [
       "<Figure size 432x288 with 1 Axes>"
      ]
     },
     "metadata": {
      "needs_background": "light"
     },
     "output_type": "display_data"
    },
    {
     "data": {
      "image/png": "[encoded data removed]",
      "text/plain": [
       "<Figure size 432x288 with 1 Axes>"
      ]
     },
     "metadata": {
      "needs_background": "light"
     },
     "output_type": "display_data"
    }
   ],
   "source": [
    "print(extractFeatureVector(df_train_norm.iloc[0]))\n",
    "\n",
    "points = []\n",
    "y = []\n",
    "x = []\n",
    "for index, row in df_train_norm.iterrows():\n",
    "    points.append(extractFeatureVector(row))\n",
    "    y.append(extractFeatureVector(row)[1])\n",
    "    x.append(extractFeatureVector(row)[2])\n",
    "data = {'Age': y, 'Pclass': x}\n",
    "\n",
    "new_frame = pd.DataFrame(data)\n",
    "new_frame.plot.scatter(x = \"Age\", y = \"Pclass\", marker = \",\",s= 1)\n",
    "\n",
    "points = []\n",
    "y = []\n",
    "x = []\n",
    "for index, row in df_train_norm.iterrows():\n",
    "    points.append(extractFeatureVector(row))\n",
    "    y.append(extractFeatureVector(row)[0])\n",
    "    x.append(extractFeatureVector(row)[2])\n",
    "data = {'Sex': y, 'Pclass': x}\n",
    "\n",
    "points = []\n",
    "y = []\n",
    "x = []\n",
    "new_frame1 = pd.DataFrame(data)\n",
    "new_frame1.plot.scatter(x = \"Sex\", y = \"Pclass\", marker = \",\",s= 1)\n",
    "for index, row in df_train_norm.iterrows():\n",
    "    points.append(extractFeatureVector(row))\n",
    "    y.append(extractFeatureVector(row)[0])\n",
    "    x.append(extractFeatureVector(row)[1])\n",
    "data = {'Sex': y, 'Age': x}\n",
    "\n",
    "new_frame2 = pd.DataFrame(data)\n",
    "new_frame2.plot.scatter(x = \"Sex\", y = \"Age\", marker = \",\",s= 1)\n"
   ]
  },
  {
   "cell_type": "markdown",
   "metadata": {},
   "source": [
    "Wenn Sie einen nieder-dimensionalen Merkmalsraum, bspw. zwei-dimensional, gewählt haben, lässt sich dieser sehr komfortabel visualisieren. Zum Beispiel:"
   ]
  },
  {
   "cell_type": "markdown",
   "metadata": {},
   "source": [
    "<img src=\"./Figures/titanic-nieder-dimensional.png\" alt=\"drawing\" style=\"width:400px;\"/>"
   ]
  },
  {
   "cell_type": "markdown",
   "metadata": {},
   "source": [
    "## Implementierung\n",
    "Die Implementierung erfolgt innerhalb der Klasse <b>KNN</b>. Im folgenden werden die einzelnen Methoden und deren Funktionsweise kurz vorgestellt. <br>\n",
    "\n",
    "\n",
    "### Konstruktor\n",
    "Das KNN-Objekt wird mit dem Wert <b>k</b> initialisiert. Dieser bestimmt die Anzahl der zu betrachtenden Nachbarn. Wählen Sie k=3 als Wert.\n",
    "\n",
    "\n",
    "### distance()-Methode:\n",
    "In dieser Methode gilt es eine Funktion zu implementieren, welche die Ähnlichkeit zweier Merkmalsvektoren vergleicht. Diese Methode soll die Ähnlichkeit der zwei Merkmalsvektoren, welche als Methoden-Parameter übergeben werden, bestimmen. Wählen Sie hierbei die aus der Vorlesung bekannten Distanz-Funktionen wie bspw. *Euklidische Distanz*, *Manhatten Distanz*, *Minkovski Distanz* etc. <br>\n",
    "\n",
    "<b>Auch hier gilt</b>: Implementieren Sie die Funktion eigenständig, eine Standard-Funktion aus einem Framework ist nicht zulässig, wie bspw. *sklearn.metrics.pairwise.euclidean_distances*. Zum Testen Ihrer Implementierung können Sie diese Funktionen nutzen.\n",
    "\n",
    "\n",
    "### fit()-Methode:\n",
    "Als Methoden-Parameter dient der normierte Trainingsdatensatz. In dieser Methode soll das Modell anhand der Trainingsdaten gebildet werden mit dem entsprechenden zuvor definierten Merkmalsvektor. <br>\n",
    "Stellen Sie sicher, dass in der Liste <b>self.trainData</b> die Merkmalsvektoren aus dem Trainingsdatensatz enthalten sind. <br>\n",
    "Stellen sie sicher, dass in der Liste <b>self.trainLabel</b> die Zielwerte des Merkmals *survived* aus dem Trainingsdatensatz enthalten sind.\n",
    "\n",
    "\n",
    "### predict()-Methode:\n",
    "Als Methoden-Parameter dient ein Merkmalsvektor. Implementieren Sie den in der Vorlesung besprochenen Algorithmus für den KNN-Klassifikator. Der Rückgabewert der Methode ist die entsprechende Mehrheits-Entscheidung."
   ]
  },
  {
   "cell_type": "code",
   "execution_count": 7,
   "metadata": {},
   "outputs": [],
   "source": [
    "class KNN(object):\n",
    "    \n",
    "    #distmethod => choos distance method\n",
    "    def __init__(self, k, distmethod):\n",
    "        self.k = k\n",
    "        self.distmethod = distmethod\n",
    "\n",
    "    #execute selected distance method\n",
    "    def distance(self, vector1,vector2):\n",
    "        if self.distmethod == 0:\n",
    "            return self._distance_manhattan(vector1,vector2)\n",
    "        elif self.distmethod == 1:\n",
    "            return self._distance_euklidischer(vector1,vector2)\n",
    "        elif self.distmethod == 2:\n",
    "            return self._distance2(vector1,vector2)\n",
    "    \n",
    "    def _distance_manhattan(self, vector1,vector2):        \n",
    "        #Manhattan\n",
    "        vector1 = np.array(vector1)\n",
    "        vector2 = np.array(vector2)\n",
    "        sub_array = []\n",
    "        for i in range(len(vector1)):\n",
    "            sub_array.append(np.absolute(vector1[i] - vector2[i]))\n",
    "\n",
    "        return np.sum(sub_array)\n",
    "    \n",
    "    def _distance_euklidischer(self, vector1,vector2):\n",
    "        #Euklidischer \n",
    "        vector1 = np.array(vector1)\n",
    "        vector2 = np.array(vector2)\n",
    "        sub_array = []\n",
    "        for i in range(len(vector1)):\n",
    "            sub_array.append(math.pow(vector1[i] - vector2[i],2))\n",
    "\n",
    "        sum_of_all = np.sum(sub_array)\n",
    "        \n",
    "        return math.sqrt(sum_of_all)\n",
    "    \n",
    "    #todo\n",
    "    def _distance2(self, vector1,vector2):\n",
    "        return 0\n",
    "    \n",
    "    def fit(self, df):\n",
    "        self.trainData = []\n",
    "        self.trainLabel = []\n",
    "        \n",
    "        #create arrays with label and data\n",
    "        for index, row in df.iterrows():\n",
    "            self.trainData.append(extractFeatureVector(row))\n",
    "            self.trainLabel.append(row.Survived)\n",
    "\n",
    "    def predict(self, x):\n",
    "        x = np.array(x)\n",
    "        dis_to_x = []\n",
    "        \n",
    "        #calculate distance to all points\n",
    "        for i in range(len(self.trainData)):\n",
    "            dis_to_x.append({\"d\" : self.distance(x,self.trainData[i]), \"s\":self.trainLabel[i] })\n",
    "        \n",
    "        #get k biggest values\n",
    "        sorted_dis = sorted(dis_to_x, key = lambda i: i['d'])\n",
    "        k_sorted =  sorted_dis[:self.k]\n",
    "        \n",
    "        #calculate max accured value\n",
    "        k_results = []\n",
    "        for i in k_sorted:\n",
    "            k_results.append(i[\"s\"])\n",
    "        return max(k_results,key=k_results.count)\n"
   ]
  },
  {
   "cell_type": "markdown",
   "metadata": {},
   "source": [
    "## Training und Test des Algorithmus\n",
    "\n",
    "Führen die Modellbildung (\"Training\") anhand der KNN-Klasse und der <b>fit()</b>-Methode durch. <br>\n",
    "Die <b>predict()</b>-Methode soll einen Merkmalsvektor $\\vec x_q$  auf die entsprechende Klassenzugehörigkeit $l \\in \\{0,1\\}$ abbilden. <br>\n",
    "Testen Sie die <b>predict()</b>-Methode mit den von ihnen gewählten Merkmalsvektoren ( _Hinweis_ : Einsatz der <b>extractFeatureVector()</b>-Methode) aus dem normierten Testdatensatz. Ermitteln sie hierzu die Korreklassifizierungsrate."
   ]
  },
  {
   "cell_type": "code",
   "execution_count": 8,
   "metadata": {},
   "outputs": [
    {
     "name": "stdout",
     "output_type": "stream",
     "text": [
      "0\n",
      "0\n"
     ]
    }
   ],
   "source": [
    "knn = KNN(3,0)\n",
    "knn.fit(df_train_norm)\n",
    "print(df_test_norm.iloc[11].Survived)\n",
    "print(knn.predict(extractFeatureVector(df_test_norm.iloc[11])))"
   ]
  },
  {
   "cell_type": "markdown",
   "metadata": {},
   "source": [
    "## Weitere Evaluation\n",
    "Untersuchen Sie wie sich die Klassifikationsleistung in Abhängigkeit von verschiedenen Änhlichkeitsmaßen bzw. Merkmalsvektoren verhält. "
   ]
  },
  {
   "cell_type": "code",
   "execution_count": null,
   "metadata": {},
   "outputs": [
    {
     "name": "stdout",
     "output_type": "stream",
     "text": [
      "2.67\n",
      "3.05\n",
      "3.44\n",
      "3.82\n",
      "4.20\n",
      "4.58\n",
      "4.96\n",
      "5.34\n",
      "5.73\n",
      "6.11\n",
      "6.49\n",
      "6.87\n",
      "7.25\n",
      "7.63\n",
      "8.02\n",
      "8.40\n",
      "8.78\n",
      "9.16\n",
      "9.54\n",
      "9.92\n",
      "10.31\n",
      "10.69\n",
      "11.07\n",
      "11.45\n",
      "11.83\n",
      "12.21\n",
      "12.60\n",
      "12.98\n",
      "13.36\n",
      "13.74\n",
      "14.12\n",
      "14.50\n",
      "14.89\n",
      "15.27\n",
      "15.65\n",
      "16.03\n",
      "16.41\n",
      "16.79\n",
      "17.18\n",
      "17.56\n",
      "17.94\n",
      "18.32\n",
      "18.70\n",
      "19.08\n",
      "19.47\n",
      "19.85\n",
      "20.23\n",
      "20.61\n",
      "20.99\n",
      "21.37\n",
      "21.76\n",
      "22.14\n",
      "22.52\n",
      "22.90\n",
      "23.28\n",
      "23.66\n",
      "24.05\n",
      "24.43\n",
      "24.81\n",
      "25.19\n",
      "25.57\n",
      "25.95\n",
      "26.34\n",
      "26.72\n",
      "27.10\n",
      "27.48\n",
      "27.86\n",
      "28.24\n",
      "28.63\n",
      "29.01\n",
      "29.39\n",
      "29.77\n",
      "30.15\n",
      "30.53\n",
      "30.92\n",
      "31.30\n",
      "31.68\n",
      "32.06\n",
      "32.44\n",
      "32.82\n",
      "33.21\n",
      "33.59\n",
      "33.97\n",
      "34.35\n",
      "34.73\n",
      "35.11\n",
      "35.50\n",
      "35.88\n",
      "36.26\n",
      "36.64\n",
      "37.02\n",
      "37.40\n",
      "37.79\n",
      "38.17\n",
      "38.55\n",
      "38.93\n",
      "39.31\n",
      "39.69\n",
      "40.08\n",
      "40.46\n",
      "40.84\n",
      "41.22\n",
      "41.60\n",
      "41.98\n",
      "42.37\n",
      "42.75\n",
      "43.13\n",
      "43.51\n",
      "43.89\n",
      "44.27\n",
      "44.66\n",
      "45.04\n",
      "45.42\n",
      "45.80\n",
      "46.18\n",
      "46.56\n",
      "46.95\n",
      "47.33\n",
      "47.71\n",
      "48.09\n",
      "48.47\n",
      "48.85\n",
      "49.24\n",
      "49.62\n",
      "50.00\n",
      "50.38\n",
      "50.76\n",
      "51.15\n",
      "51.53\n",
      "51.91\n",
      "52.29\n",
      "52.67\n",
      "53.05\n",
      "53.44\n",
      "53.82\n",
      "54.20\n",
      "54.58\n",
      "54.96\n",
      "55.34\n",
      "55.73\n"
     ]
    }
   ],
   "source": [
    "# execute KNN and calculate accuracy\n",
    "def getAcc(n, distmethod):\n",
    "    tp = 0\n",
    "    tn = 0\n",
    "    fp = 0\n",
    "    fn = 0\n",
    "    knn = KNN(n, distmethod)\n",
    "    knn.fit(df_train_norm)\n",
    "\n",
    "    for index, row in df_test_norm.iterrows():\n",
    "        predicted = knn.predict(extractFeatureVector(row))\n",
    "        actual = row[\"Survived\"]\n",
    "\n",
    "        if predicted == 1:\n",
    "            if actual == 1:\n",
    "                tp += 1\n",
    "            else:  \n",
    "                fp += 1\n",
    "        else:\n",
    "            if actual == 1:\n",
    "                fn += 1\n",
    "            else: \n",
    "                tn += 1\n",
    "\n",
    "    \n",
    "    return (tp + tn) / (tp + tn + fp +fn)\n",
    "\n",
    "acc = []\n",
    "\n",
    "for i in range(5, len(df_test_norm)):\n",
    "    print(\"%.2f\" % ((100/len(df_test_norm))*(i+2)))\n",
    "    acc.append({\"acc\":getAcc(i,0), \"k\": i})\n",
    "    \n",
    "print(sorted(acc, key = lambda i: i['acc']))\n",
    "\n",
    "acc = []\n",
    "\n",
    "for i in range(5, len(df_test_norm)):\n",
    "    print(\"%.2f\" % ((100/len(df_test_norm))*(i+2)))\n",
    "    acc.append({\"acc\":getAcc(i,1), \"k\": i})\n",
    "    \n",
    "print(sorted(acc, key = lambda i: i['acc']))\n",
    "\n",
    "acc = []\n",
    "\n",
    "for i in range(5, len(df_test_norm)):\n",
    "    print(\"%.2f\" % ((100/len(df_test_norm))*(i+2)))\n",
    "    acc.append({\"acc\":getAcc(i,2), \"k\": i})\n",
    "    \n",
    "print(sorted(acc, key = lambda i: i['acc']))\n"
   ]
  },
  {
   "cell_type": "code",
   "execution_count": null,
   "metadata": {},
   "outputs": [],
   "source": []
  }
 ],
 "metadata": {
  "kernelspec": {
   "display_name": "Python 3",
   "language": "python",
   "name": "python3"
  },
  "language_info": {
   "codemirror_mode": {
    "name": "ipython",
    "version": 3
   },
   "file_extension": ".py",
   "mimetype": "text/x-python",
   "name": "python",
   "nbconvert_exporter": "python",
   "pygments_lexer": "ipython3",
   "version": "3.7.6"
  }
 },
 "nbformat": 4,
 "nbformat_minor": 2
}
