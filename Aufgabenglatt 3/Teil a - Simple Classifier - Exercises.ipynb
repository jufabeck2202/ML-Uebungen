{
 "cells": [
  {
   "cell_type": "markdown",
   "metadata": {},
   "source": [
    "# Simple Classifier\n",
    "In der vergangenen Übung haben Sie einiges über die Struktur der Daten gelernt. Nun sollen Sie dieses Wissen einsetzen um eine erste Vorhersage auf einem Testdatensatz zu treffen. Im folgenden werden die notwendigen Imports getätigt und das Dataset eingelesen."
   ]
  },
  {
   "cell_type": "markdown",
   "metadata": {},
   "source": [
    "### Imports"
   ]
  },
  {
   "cell_type": "code",
   "execution_count": 1,
   "metadata": {},
   "outputs": [],
   "source": [
    "import numpy as np\n",
    "import csv as csv\n",
    "import matplotlib.pyplot as plt\n",
    "import pandas as pd\n",
    "import itertools\n",
    "import random\n",
    "%matplotlib inline"
   ]
  },
  {
   "cell_type": "markdown",
   "metadata": {},
   "source": [
    "### Daten einlesen"
   ]
  },
  {
   "cell_type": "code",
   "execution_count": 2,
   "metadata": {},
   "outputs": [
    {
     "name": "stdout",
     "output_type": "stream",
     "text": [
      "<class 'pandas.core.frame.DataFrame'>\n",
      "RangeIndex: 1309 entries, 0 to 1308\n",
      "Data columns (total 13 columns):\n",
      " #   Column       Non-Null Count  Dtype  \n",
      "---  ------       --------------  -----  \n",
      " 0   PassengerId  1309 non-null   int64  \n",
      " 1   Survived     1309 non-null   int64  \n",
      " 2   Pclass       1309 non-null   int64  \n",
      " 3   Name         1309 non-null   object \n",
      " 4   Sex          1309 non-null   object \n",
      " 5   Age          1046 non-null   float64\n",
      " 6   SibSp        1309 non-null   int64  \n",
      " 7   Parch        1309 non-null   int64  \n",
      " 8   Ticket       1309 non-null   object \n",
      " 9   Fare         1308 non-null   float64\n",
      " 10  Cabin        295 non-null    object \n",
      " 11  Embarked     1307 non-null   object \n",
      " 12  Home-Dest    745 non-null    object \n",
      "dtypes: float64(2), int64(5), object(6)\n",
      "memory usage: 133.1+ KB\n"
     ]
    }
   ],
   "source": [
    "DATA_FILE = './Data/original_titanic.csv'\n",
    "# TODO : implement\n",
    "df = pd.read_csv(DATA_FILE, header=0)\n",
    "len(df)\n",
    "df.info()"
   ]
  },
  {
   "cell_type": "markdown",
   "metadata": {},
   "source": [
    "### Datenlücken interpolieren\n",
    "\n",
    "Gerne können Sie zum Füllen der Datenlücken auch Ihre Implementierung aus dem vorherigen Arbeitsblatt einsetzen."
   ]
  },
  {
   "cell_type": "code",
   "execution_count": 3,
   "metadata": {},
   "outputs": [],
   "source": [
    "def prepareData(df):\n",
    "    df.loc[(((df.Sex == \"male\")   &(df.Survived == 0)) & (df.Pclass==1)) & df.Age.isnull(),\"Age\"] =  df.loc[((df.Sex == \"male\")   &(df.Survived == 0)) & (df.Pclass==1), \"Age\"].mean()\n",
    "    df.loc[(((df.Sex == \"male\")   &(df.Survived == 0)) & (df.Pclass==2)) & df.Age.isnull(),\"Age\"] =  df.loc[((df.Sex == \"male\")   &(df.Survived == 0)) & (df.Pclass==2), \"Age\"].mean()\n",
    "    df.loc[(((df.Sex == \"male\")   &(df.Survived == 0)) & (df.Pclass==3)) & df.Age.isnull(),\"Age\"] =  df.loc[((df.Sex == \"male\")   &(df.Survived == 0)) & (df.Pclass==3), \"Age\"].mean()\n",
    "    \n",
    "    df.loc[(((df.Sex == \"male\")   &(df.Survived == 1)) & (df.Pclass==1)) & df.Age.isnull(),\"Age\"] =  df.loc[((df.Sex == \"male\")   &(df.Survived == 1)) & (df.Pclass==1), \"Age\"].mean()\n",
    "    df.loc[(((df.Sex == \"male\")   &(df.Survived == 1)) & (df.Pclass==2)) & df.Age.isnull(),\"Age\"] =  df.loc[((df.Sex == \"male\")   &(df.Survived == 1)) & (df.Pclass==2), \"Age\"].mean()\n",
    "    df.loc[(((df.Sex == \"male\")   &(df.Survived == 1)) & (df.Pclass==3)) & df.Age.isnull(),\"Age\"] =  df.loc[((df.Sex == \"male\")   &(df.Survived == 1)) & (df.Pclass==3), \"Age\"].mean()\n",
    "    \n",
    "    \n",
    "    df.loc[(((df.Sex == \"female\") &(df.Survived == 0)) & (df.Pclass==1)) & df.Age.isnull(),\"Age\"] =  df.loc[((df.Sex == \"female\") &(df.Survived == 0)) & (df.Pclass==1), \"Age\"].mean()\n",
    "    df.loc[(((df.Sex == \"female\") &(df.Survived == 0)) & (df.Pclass==2)) & df.Age.isnull(),\"Age\"] =  df.loc[((df.Sex == \"female\") &(df.Survived == 0)) & (df.Pclass==2), \"Age\"].mean()\n",
    "    df.loc[(((df.Sex == \"female\") &(df.Survived == 0)) & (df.Pclass==3)) & df.Age.isnull(),\"Age\"] =  df.loc[((df.Sex == \"female\") &(df.Survived == 0)) & (df.Pclass==3), \"Age\"].mean()\n",
    "    \n",
    "    df.loc[(((df.Sex == \"female\") &(df.Survived == 1)) & (df.Pclass==1)) & df.Age.isnull(),\"Age\"] =  df.loc[((df.Sex == \"female\") &(df.Survived == 1)) & (df.Pclass==1), \"Age\"].mean()\n",
    "    df.loc[(((df.Sex == \"female\") &(df.Survived == 1)) & (df.Pclass==2)) & df.Age.isnull(),\"Age\"] =  df.loc[((df.Sex == \"female\") &(df.Survived == 1)) & (df.Pclass==2), \"Age\"].mean()\n",
    "    df.loc[(((df.Sex == \"female\") &(df.Survived == 1)) & (df.Pclass==3)) & df.Age.isnull(),\"Age\"] =  df.loc[((df.Sex == \"female\") &(df.Survived == 1)) & (df.Pclass==3), \"Age\"].mean()\n",
    "    return df\n",
    "    \n",
    "df = prepareData(df)"
   ]
  },
  {
   "cell_type": "markdown",
   "metadata": {},
   "source": [
    "### Datensatz stochastisch verändern\n",
    "\n",
    "Es wird der komplette Datensatz durchmischt. Finden Sie hierfür geeignete Methoden (Python, Numpy, Pandas). Geben Sie die ersten fünf Zeilen des durchmischten Datensatzes aus. Weisen Sie nach, dass lediglich die Reihenfolge der Daten geändert wurde und <b>nicht(!)</b> die Merkmals-Spalten."
   ]
  },
  {
   "cell_type": "code",
   "execution_count": 4,
   "metadata": {},
   "outputs": [
    {
     "data": {
      "text/html": [
       "<div>\n",
       "<style scoped>\n",
       "    .dataframe tbody tr th:only-of-type {\n",
       "        vertical-align: middle;\n",
       "    }\n",
       "\n",
       "    .dataframe tbody tr th {\n",
       "        vertical-align: top;\n",
       "    }\n",
       "\n",
       "    .dataframe thead th {\n",
       "        text-align: right;\n",
       "    }\n",
       "</style>\n",
       "<table border=\"1\" class=\"dataframe\">\n",
       "  <thead>\n",
       "    <tr style=\"text-align: right;\">\n",
       "      <th></th>\n",
       "      <th>PassengerId</th>\n",
       "      <th>Survived</th>\n",
       "      <th>Pclass</th>\n",
       "      <th>Name</th>\n",
       "      <th>Sex</th>\n",
       "      <th>Age</th>\n",
       "      <th>SibSp</th>\n",
       "      <th>Parch</th>\n",
       "      <th>Ticket</th>\n",
       "      <th>Fare</th>\n",
       "      <th>Cabin</th>\n",
       "      <th>Embarked</th>\n",
       "      <th>Home-Dest</th>\n",
       "    </tr>\n",
       "  </thead>\n",
       "  <tbody>\n",
       "    <tr>\n",
       "      <th>552</th>\n",
       "      <td>553</td>\n",
       "      <td>0</td>\n",
       "      <td>2</td>\n",
       "      <td>Rogers, Mr. Reginald Harry</td>\n",
       "      <td>male</td>\n",
       "      <td>19.0</td>\n",
       "      <td>0</td>\n",
       "      <td>0</td>\n",
       "      <td>28004</td>\n",
       "      <td>10.5000</td>\n",
       "      <td>NaN</td>\n",
       "      <td>S</td>\n",
       "      <td>NaN</td>\n",
       "    </tr>\n",
       "    <tr>\n",
       "      <th>103</th>\n",
       "      <td>104</td>\n",
       "      <td>1</td>\n",
       "      <td>1</td>\n",
       "      <td>Endres, Miss. Caroline Louise</td>\n",
       "      <td>female</td>\n",
       "      <td>38.0</td>\n",
       "      <td>0</td>\n",
       "      <td>0</td>\n",
       "      <td>PC 17757</td>\n",
       "      <td>227.5250</td>\n",
       "      <td>C45</td>\n",
       "      <td>C</td>\n",
       "      <td>New York, NY</td>\n",
       "    </tr>\n",
       "    <tr>\n",
       "      <th>430</th>\n",
       "      <td>431</td>\n",
       "      <td>1</td>\n",
       "      <td>2</td>\n",
       "      <td>Harper, Miss. Annie Jessie \"Nina\"</td>\n",
       "      <td>female</td>\n",
       "      <td>6.0</td>\n",
       "      <td>0</td>\n",
       "      <td>1</td>\n",
       "      <td>248727</td>\n",
       "      <td>33.0000</td>\n",
       "      <td>NaN</td>\n",
       "      <td>S</td>\n",
       "      <td>Denmark Hill, Surrey / Chicago</td>\n",
       "    </tr>\n",
       "    <tr>\n",
       "      <th>419</th>\n",
       "      <td>420</td>\n",
       "      <td>0</td>\n",
       "      <td>2</td>\n",
       "      <td>Giles, Mr. Edgar</td>\n",
       "      <td>male</td>\n",
       "      <td>21.0</td>\n",
       "      <td>1</td>\n",
       "      <td>0</td>\n",
       "      <td>28133</td>\n",
       "      <td>11.5000</td>\n",
       "      <td>NaN</td>\n",
       "      <td>S</td>\n",
       "      <td>Cornwall / Camden, NJ</td>\n",
       "    </tr>\n",
       "    <tr>\n",
       "      <th>1082</th>\n",
       "      <td>1083</td>\n",
       "      <td>1</td>\n",
       "      <td>3</td>\n",
       "      <td>Olsen, Master. Artur Karl</td>\n",
       "      <td>male</td>\n",
       "      <td>9.0</td>\n",
       "      <td>0</td>\n",
       "      <td>1</td>\n",
       "      <td>C 17368</td>\n",
       "      <td>3.1708</td>\n",
       "      <td>NaN</td>\n",
       "      <td>S</td>\n",
       "      <td>NaN</td>\n",
       "    </tr>\n",
       "  </tbody>\n",
       "</table>\n",
       "</div>"
      ],
      "text/plain": [
       "      PassengerId  Survived  Pclass                               Name  \\\n",
       "552           553         0       2         Rogers, Mr. Reginald Harry   \n",
       "103           104         1       1      Endres, Miss. Caroline Louise   \n",
       "430           431         1       2  Harper, Miss. Annie Jessie \"Nina\"   \n",
       "419           420         0       2                   Giles, Mr. Edgar   \n",
       "1082         1083         1       3          Olsen, Master. Artur Karl   \n",
       "\n",
       "         Sex   Age  SibSp  Parch    Ticket      Fare Cabin Embarked  \\\n",
       "552     male  19.0      0      0     28004   10.5000   NaN        S   \n",
       "103   female  38.0      0      0  PC 17757  227.5250   C45        C   \n",
       "430   female   6.0      0      1    248727   33.0000   NaN        S   \n",
       "419     male  21.0      1      0     28133   11.5000   NaN        S   \n",
       "1082    male   9.0      0      1   C 17368    3.1708   NaN        S   \n",
       "\n",
       "                           Home-Dest  \n",
       "552                              NaN  \n",
       "103                     New York, NY  \n",
       "430   Denmark Hill, Surrey / Chicago  \n",
       "419            Cornwall / Camden, NJ  \n",
       "1082                             NaN  "
      ]
     },
     "execution_count": 4,
     "metadata": {},
     "output_type": "execute_result"
    }
   ],
   "source": [
    "df_shuffled = df.sample(frac=1) \n",
    "df.head(5)\n",
    "df_shuffled.head(5)"
   ]
  },
  {
   "cell_type": "code",
   "execution_count": 5,
   "metadata": {},
   "outputs": [
    {
     "name": "stdout",
     "output_type": "stream",
     "text": [
      "29.13103414953052\n",
      "29.131034149530446\n"
     ]
    }
   ],
   "source": [
    "print(df.Age[(df.Survived == 1) & (df.Sex == 'female')].mean())\n",
    "print(df_shuffled.Age[(df.Survived == 1) & (df.Sex == 'female')].mean())"
   ]
  },
  {
   "cell_type": "markdown",
   "metadata": {},
   "source": [
    "### Aufteilung in Trainings- und Testdatensatz\n",
    "\n",
    "Teilen Sie den stochastisch veränderten Datensatz in Trainings- und Testdatensatz mit der Verteilung von 80% (Train) zu 20% (Test) auf. Geben Sie die Länge der Datensätze aus."
   ]
  },
  {
   "cell_type": "code",
   "execution_count": 6,
   "metadata": {},
   "outputs": [
    {
     "name": "stdout",
     "output_type": "stream",
     "text": [
      "1047\n",
      "262\n"
     ]
    }
   ],
   "source": [
    "df_train = df_shuffled[:int(len(df_shuffled)* 0.8)] \n",
    "print(len(df_train))\n",
    "df_test  =  df_shuffled[int(len(df_shuffled)* 0.8):] \n",
    "print(len(df_test))\n"
   ]
  },
  {
   "cell_type": "markdown",
   "metadata": {},
   "source": [
    "### Performance von Machine Learing Algorithmen\n",
    "\n",
    "Die Performance von Machine Learing Algorithmen kann unter anderem anhand der Korreklassifizierungsrate (engl. Accuracy) ermittelt werden. Diese wird über die Verwechslungsmatrix (engl. Confusion matrix) (siehe Abbildung) wie folgt definiert: <br>\n",
    "\n",
    "TP = True Positive <br>\n",
    "TN = True Negative <br>\n",
    "FP = False Positive <br>\n",
    "FN = False Negative <br>\n",
    "ACC = Accuracy <br>\n",
    "\n",
    "$ACC = \\frac{(TP + TN)} {(TP+TN+FP+FN)}$\n",
    "\n",
    "<img src=\"./Figures/Confusion-Matrix.png\" alt=\"drawing\" style=\"width:300px;\"/>\n",
    "\n"
   ]
  },
  {
   "cell_type": "markdown",
   "metadata": {},
   "source": [
    "### Implementierung des Algorithmus"
   ]
  },
  {
   "cell_type": "markdown",
   "metadata": {},
   "source": [
    "Schreiben Sie eine Funktion um die Klasse *Survived*, mit ihren beiden Ausprägungen 0 und 1, anhand von einem oder mehreren Merkmalen vorherzusagen. Verwenden Sie dazu ein einfaches Modell in welchem Sie ihr bisheriges Wissen über den Datensatz einsetzen."
   ]
  },
  {
   "cell_type": "code",
   "execution_count": 7,
   "metadata": {},
   "outputs": [],
   "source": [
    "def predict(row):\n",
    "    # TODO: implement\n",
    "    found_rows = df_train[(df_train.Sex == row.Sex) & (df_train.Survived == row.Survived) & (df_train.Age == row.Age) & (df_train.Pclass == row.Pclass)]\n",
    "    if len(found_rows) > 0:\n",
    "        randomRow = found_rows.sample(n=1)\n",
    "        return randomRow.iloc[0].Survived\n",
    "    else:\n",
    "        return random.randint(0, 1)\n"
   ]
  },
  {
   "cell_type": "markdown",
   "metadata": {},
   "source": [
    "### Testen des Algorithmus"
   ]
  },
  {
   "cell_type": "markdown",
   "metadata": {},
   "source": [
    "Testen Sie die predict() Methode mit den Datenobjekten aus dem Testdatensatz. Ermitteln sie hierzu die Korreklassifizierungsrate."
   ]
  },
  {
   "cell_type": "code",
   "execution_count": 8,
   "metadata": {},
   "outputs": [],
   "source": [
    "def getAcc():\n",
    "    tp = 0\n",
    "    tn = 0\n",
    "    fp = 0\n",
    "    fn = 0\n",
    "\n",
    "    for index, row in df_test.iterrows():\n",
    "        predicted = predict(row)\n",
    "        actual = row[\"Survived\"]\n",
    "\n",
    "        if predicted == 1:\n",
    "            if actual == 1:\n",
    "                tp += 1\n",
    "            else:  \n",
    "                fp += 1\n",
    "        else:\n",
    "            if actual == 1:\n",
    "                fn += 1\n",
    "            else: \n",
    "                tn += 1\n",
    "\n",
    "    \n",
    "    return (tp + tn) / (tp + tn + fp +fn)"
   ]
  },
  {
   "cell_type": "code",
   "execution_count": 9,
   "metadata": {},
   "outputs": [
    {
     "name": "stdout",
     "output_type": "stream",
     "text": [
      "0.9198473282442748\n"
     ]
    }
   ],
   "source": [
    "print(getAcc())"
   ]
  },
  {
   "cell_type": "code",
   "execution_count": null,
   "metadata": {},
   "outputs": [],
   "source": []
  }
 ],
 "metadata": {
  "kernelspec": {
   "display_name": "Python 3",
   "language": "python",
   "name": "python3"
  },
  "language_info": {
   "codemirror_mode": {
    "name": "ipython",
    "version": 3
   },
   "file_extension": ".py",
   "mimetype": "text/x-python",
   "name": "python",
   "nbconvert_exporter": "python",
   "pygments_lexer": "ipython3",
   "version": "3.7.6"
  }
 },
 "nbformat": 4,
 "nbformat_minor": 2
}
