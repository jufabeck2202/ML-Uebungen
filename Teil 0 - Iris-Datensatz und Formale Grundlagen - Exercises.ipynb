{
 "cells": [
  {
   "cell_type": "markdown",
   "metadata": {},
   "source": [
    "# Teil 0 - Iris-Datensatz und Formale Grundlagen"
   ]
  },
  {
   "cell_type": "markdown",
   "metadata": {},
   "source": [
    "## Iris-Datensatz"
   ]
  },
  {
   "cell_type": "markdown",
   "metadata": {},
   "source": [
    "Für die folgende Übung werden wir mit der Iris-Datensammlung arbeiten, einem klassischen Beispiel für den Bereich des Machine Learnings. Hierbei handelt es sich um Messdaten von 150 Schwertlilien dreier verschiedener Arten:\n",
    "* Iris-setosa (n=50)\n",
    "* Iris-versicolor (n=50)\n",
    "* Iris-virginica (n=50)\n",
    "\n",
    "Jedes der Blumenexemplare (Sample) wird in dieser Datensammlung durch eine Zeile repräsentiert. In den einzelnen Spalten stehen die in Zentimetern angegebenen Messdaten, welche auch als <i>Merkmale (Features)</i> der Datenmenge bezeichnet werden. Diese Merkmale sind die folgenden:\n",
    "\n",
    "* Sepal length [in cm]\n",
    "* Sepal width [in cm]\n",
    "* Petal length [in cm]\n",
    "* Petal width [in cm]\n",
    "\n",
    "<img src=\"./Figures/Iris-Datensammlung.png\" alt=\"drawing\" style=\"width:800px;\"/>"
   ]
  },
  {
   "cell_type": "code",
   "execution_count": 1,
   "metadata": {},
   "outputs": [
    {
     "data": {
      "text/html": [
       "<div>\n",
       "<style scoped>\n",
       "    .dataframe tbody tr th:only-of-type {\n",
       "        vertical-align: middle;\n",
       "    }\n",
       "\n",
       "    .dataframe tbody tr th {\n",
       "        vertical-align: top;\n",
       "    }\n",
       "\n",
       "    .dataframe thead th {\n",
       "        text-align: right;\n",
       "    }\n",
       "</style>\n",
       "<table border=\"1\" class=\"dataframe\">\n",
       "  <thead>\n",
       "    <tr style=\"text-align: right;\">\n",
       "      <th></th>\n",
       "      <th>0</th>\n",
       "      <th>1</th>\n",
       "      <th>2</th>\n",
       "      <th>3</th>\n",
       "      <th>4</th>\n",
       "    </tr>\n",
       "  </thead>\n",
       "  <tbody>\n",
       "    <tr>\n",
       "      <th>0</th>\n",
       "      <td>5.1</td>\n",
       "      <td>3.5</td>\n",
       "      <td>1.4</td>\n",
       "      <td>0.2</td>\n",
       "      <td>Iris-setosa</td>\n",
       "    </tr>\n",
       "    <tr>\n",
       "      <th>1</th>\n",
       "      <td>4.9</td>\n",
       "      <td>3.0</td>\n",
       "      <td>1.4</td>\n",
       "      <td>0.2</td>\n",
       "      <td>Iris-setosa</td>\n",
       "    </tr>\n",
       "    <tr>\n",
       "      <th>2</th>\n",
       "      <td>4.7</td>\n",
       "      <td>3.2</td>\n",
       "      <td>1.3</td>\n",
       "      <td>0.2</td>\n",
       "      <td>Iris-setosa</td>\n",
       "    </tr>\n",
       "    <tr>\n",
       "      <th>3</th>\n",
       "      <td>4.6</td>\n",
       "      <td>3.1</td>\n",
       "      <td>1.5</td>\n",
       "      <td>0.2</td>\n",
       "      <td>Iris-setosa</td>\n",
       "    </tr>\n",
       "    <tr>\n",
       "      <th>4</th>\n",
       "      <td>5.0</td>\n",
       "      <td>3.6</td>\n",
       "      <td>1.4</td>\n",
       "      <td>0.2</td>\n",
       "      <td>Iris-setosa</td>\n",
       "    </tr>\n",
       "  </tbody>\n",
       "</table>\n",
       "</div>"
      ],
      "text/plain": [
       "     0    1    2    3            4\n",
       "0  5.1  3.5  1.4  0.2  Iris-setosa\n",
       "1  4.9  3.0  1.4  0.2  Iris-setosa\n",
       "2  4.7  3.2  1.3  0.2  Iris-setosa\n",
       "3  4.6  3.1  1.5  0.2  Iris-setosa\n",
       "4  5.0  3.6  1.4  0.2  Iris-setosa"
      ]
     },
     "execution_count": 1,
     "metadata": {},
     "output_type": "execute_result"
    }
   ],
   "source": [
    "import pandas as pd\n",
    "import matplotlib.pyplot as plt\n",
    "import numpy as np\n",
    "df = pd.read_csv(\"./Data/iris.data\", header=None, sep=\",\")\n",
    "df.head()"
   ]
  },
  {
   "cell_type": "markdown",
   "metadata": {},
   "source": [
    "## Visualisierung Iris-Datensatz: Sepal length, Sepal width\n",
    "\n",
    "Visualisieren Sie die Merkmale *Sepal Length* und *Sepal Width* aller drei Klassen nach Farben getrennt. <br>\n",
    "\n",
    "\n",
    "Zum Beispiel:\n",
    "<img src=\"./Figures/Sepal.png\" alt=\"drawing\" style=\"width:400px;\"/>"
   ]
  },
  {
   "cell_type": "code",
   "execution_count": 2,
   "metadata": {},
   "outputs": [],
   "source": [
    "# TODO: implement"
   ]
  },
  {
   "cell_type": "markdown",
   "metadata": {},
   "source": [
    "## Visualisierung Iris-Datensatz: Petal length, Petal width\n",
    "\n",
    "Visualisieren Sie die Merkmale *Petal Length* und *Petal Width* aller drei Klassen nach Farben getrennt. <br>\n",
    "\n",
    "\n",
    "Zum Beispiel:\n",
    "<img src=\"./Figures/Petal.png\" alt=\"drawing\" style=\"width:400px;\"/>"
   ]
  },
  {
   "cell_type": "code",
   "execution_count": 3,
   "metadata": {},
   "outputs": [],
   "source": [
    "# TODO: implement"
   ]
  },
  {
   "cell_type": "markdown",
   "metadata": {},
   "source": [
    "## Formale Grundlagen"
   ]
  },
  {
   "cell_type": "markdown",
   "metadata": {},
   "source": [
    "Zur Notation werden die Grundlagen der <i>linearen Algebra</i> genutzt. Die folgenden Erläuterungen und Aufgabenstellungen verwenden die Matrizen- und Vektornotation zur Beschreibung der Daten. Es gilt die Konvention, dass jedes Objekt durch eine Zeile in der Merkmalsmatrix <b>X</b> repräsentiert und jedes Merkmal als eigene Spalte gespeichert wird. <br>\n",
    "\n",
    "Die Iris-Datensammlung besteht aus 150 Datensätzen mit jeweils vier Merkmalen und kann somit als 150x4 Matrix <b>X</b> $\\in \\mathbb R^{150x4}$ geschrieben werden:\n",
    "\n",
    "$ \n",
    "X = \\begin{pmatrix} \n",
    "x_1^{(1)} & x_2^{(1)} & x_3^{(1)} & x_4^{(1)}  \\\\ \n",
    "x_1^{(2)} & x_2^{(2)} & x_3^{(2)} & x_4^{(2)}  \\\\ \n",
    "\\vdots & \\vdots & \\vdots & \\vdots \\\\\n",
    "x_1^{(150)} & x_2^{(150)} & x_3^{(150)} & x_4^{(150)}  \\\\\n",
    "\\end{pmatrix}\n",
    "$\n",
    "\n",
    "Mit einem hochgestellten <b>(i)</b> wird auf das i-te Trainingsobjekt verwiesen, mit einem tiefgestelltem <b>j</b> wird auf die j-te Dimension der Datenmenge verwiesen. Vektoren werden als Kleinbuchstaben (<b>$\\vec{x}$</b> $\\in \\mathbb R^{nx1}$), Matrizen als Großbuchstaben (<b>X</b> $\\in \\mathbb R^{nxm}$) notiert. Beispielsweise verweist $x^{(150)}_1$ auf die erste Dimension des Blütenexemplars 150. <br>\n",
    "\n",
    "Jede Zeile der Merkmalsmatrix repräsentiert ein Blütenexemplar und kann als vierdimensionaler Zeilenvektor <b>$\\vec{x}$</b> $\\in \\mathbb R^{1x4}$ geschrieben werden:\n",
    "$\n",
    "\\vec{x}^{(i)T} = \n",
    "\\begin{pmatrix} \n",
    "x_1^{(i)} & x_2^{(i)} & x_3^{(i)} & x_4^{(i)} \n",
    "\\end{pmatrix}  \n",
    "$\n",
    "\n",
    "Der erste Merkmalsvektor des Datensatzes ist der folgende: <br>\n",
    "$\n",
    "\\vec{x}^{(1)T} = \n",
    "\\begin{pmatrix} \n",
    "5.1^{(1)} & 3.5^{(1)} & 1.4^{(1)} & 0.2^{(1)} \n",
    "\\end{pmatrix}  \n",
    "$\n",
    "\n",
    "Jede Merkmaldimension ist ein 150-dimensionaler Spaltenvektor $\\vec{x}_j \\in \\mathbb R^{150x1}$:\n",
    "\n",
    "$\n",
    "\\vec{x}_j = \n",
    "\\begin{pmatrix} \n",
    "x_j^{(1)} \\\\ \n",
    "x_j^{(2)} \\\\ \n",
    "\\vdots \\\\\n",
    "x_j^{(150)} \\\\ \n",
    "\\end{pmatrix}  \n",
    "$\n",
    "\n",
    "Die Zielvariablen (in diesem Fall die Klassenbezeichnungen) werden ebenfalls als 150-dimensionaler Spaltenvektor notiert:\n",
    "\n",
    "$\n",
    "\\vec{y} = \n",
    "\\begin{pmatrix} \n",
    "y^{(1)} \\\\ \n",
    "y^{(2)} \\\\ \n",
    "\\vdots \\\\\n",
    "y^{(150)} \\\\ \n",
    "\\end{pmatrix}   \n",
    "(y \\in {\\text{Setosa}, \\text{Versicolor}, \\text{Virginica}})\n",
    "$\n",
    "\n",
    "## Aufbau eines neuronalen Netzes\n",
    "\n",
    "\n",
    "<img src=\"./Figures/neural_network2.png\" alt=\"drawing\" style=\"width:800px;\"/>\n",
    "\n",
    "\n",
    "Die Aufgabe des Netzes besteht darin, Input-Werte entgegenzunehmen und eine Klassifizierung durchzuführen.\n",
    "\n",
    "<b>Input-Werte</b>: <br>\n",
    "Die Merkmalsmatrix <b>X</b> stellt sämtliche Input-Werte und somit die Eingangssignale für das neuronale Netz, dar. Die einzelnen Merkmale pro Exemplar werden als Vektor zusammengefasst. Ein Beispiel für den ersten Eingangsvektor ist nach wie vor folgender Vektor:\n",
    "\n",
    "$\n",
    "\\vec{x}^{(1)T} = \n",
    "\\begin{pmatrix} \n",
    "5.1^{(1)} & 3.5^{(1)} & 1.4^{(1)} & 0.2^{(1)} \n",
    "\\end{pmatrix}  \n",
    "$\n",
    "\n",
    "\n",
    "<b>Input-Neuron</b>: <br>\n",
    "Ein Input-Neuron reicht die Input-Werte an die nächste Schicht weiter.\n",
    "\n",
    "<b>Gewichte</b>: <br>\n",
    "Gewichte stellen Verbindungen zwischen Neuronen dar. Diese werden als  Zahlenwerte $w_1, w_2, ..., w_n$ abgebildet. D.h für jedes Eingangssignal ein Gewichtswert. Die Gesamtheit der Gewichte wird als Gewichtsvektor $\\vec{w}$ bezeichnet.\n",
    "\n",
    "<b>Output-Neuron</b>: <br>\n",
    "Jedes einzelne Output-Neuron zählt sämtliche Werte seiner Eingänge zusammen. Jeder Eingangswert wird mit dem korrespondierenden Gewicht der Eingangsverbindung multipliziert. Diese Summe wird als <i>gewichtete Summe</i> (auch:  Nettoeingabe) bezeichnet. Das Gewicht regelt den Anteil des Eingangswerts auf die Eingangssumme. So bewirkt bspw. ein Gewicht von 0, dass der Eingangswert keinerlei Einfluss hat.<br>\n",
    "\n",
    "gewichtete Summe s= $\\sum^{n}_{i=1} x_i \\cdot w_i.$ <br>\n",
    "Bsp.1: $s(o_1)=  5.1 \\cdot 1 + 3.5 \\cdot 1 + 1.4 \\cdot 1 + 0.2 \\cdot 1 = 10.2$ <br>\n",
    "\n",
    "<b>Aktivierungsfunktion</b>: <br>\n",
    "Jedes Output-Neuron übergibt die gewichtete Summe an eine Funktion. Hierbei handelt es sich um die Aktivierungsfunktion $f_{akt}(s)$ oder auch Phi $\\phi(s)$. Diese nimmt eine Linearkombination der Eingabewerte $\\vec{x}$ und Gewichtungsvektor $\\vec{w}$ entgegen. Wenn die Aktivierungsfunktion eines bestimmten Objektes $\\vec{x}^{(i)}$ (d.h. die Ausgabe von $\\phi(s)$) einen bestimmten Schwellenwert $\\theta$ überschreitet, wird die Klasse 1 vorhergesagt, anderenfalls die Klasse 0. Diese Vorhersage liefert letztendlich die Ausgabe. Der Ausgabewert ist die von der Sprungfuntion vorhergesagten Klassenbezeichnung. Eine Ausprägung solch einer Aktivierungsfunktion ist die Stufenfunktion (engl. step function). In der Funktion erfolgt ein Vergleich zwischen der Summe mit einem <i>Schwellenwert</i>. Dabei kann der Schwellenwert einen beliebigen Wert annehmen. Falls der Schwellenwert 0 ist, wird die Stufenfunktion als <i>Heaviside</i>-Funktion bezeichnet. Die Ausgabewerte sind 0 bzw. 1. Wenn der Vergleichswert kleiner als der Schwellenwert ist, ist der Output 0, ansonsten 1. \n",
    "\n",
    "<img src=\"./Figures/heaviside.png\" alt=\"drawing\" style=\"width:300px;\"/>\n",
    "\n",
    "Folgende Abbildung zeigt, wie die Aktivierungsfunktion dazu verwendet werden kann, zwei linear trennbare Klassen zu unterscheiden.\n",
    "<img src=\"./Figures/linear_trennbar.png\" alt=\"drawing\" style=\"width:300px;\"/>\n",
    "\n",
    "<b>Fehlerberechnung</b>: <br>\n",
    "Der berechnete Output des neuronalen Netzes wird mit dem gewünschten Output verglichen und davon abhängig der Fehler gemessen.\n",
    "\n",
    "<b>Feed-Forward-Netzwerk</b>: <br>\n",
    "Auf dem Weg vom Input zum Output leitet das Netz die Werte von Schicht zu Schicht, nach vorn gerichtet. Diese Form nennt sich Feed-Forward-Netzwerk (engl. für vorwärtsgerichtete Netze). Dem gegenüber stehen Recurrent Networks (engl. für rückgekoppelte Netze). Bei diesen existieren Rückkopplungen zwischen den gleichen und vorangegangenen Schichten. Diese sind jedoch nicht Bestandteil des Labors."
   ]
  },
  {
   "cell_type": "code",
   "execution_count": null,
   "metadata": {},
   "outputs": [],
   "source": []
  }
 ],
 "metadata": {
  "kernelspec": {
   "display_name": "Python 3",
   "language": "python",
   "name": "python3"
  },
  "language_info": {
   "codemirror_mode": {
    "name": "ipython",
    "version": 3
   },
   "file_extension": ".py",
   "mimetype": "text/x-python",
   "name": "python",
   "nbconvert_exporter": "python",
   "pygments_lexer": "ipython3",
   "version": "3.7.7"
  }
 },
 "nbformat": 4,
 "nbformat_minor": 2
}
