{
 "cells": [
  {
   "cell_type": "markdown",
   "metadata": {},
   "source": [
    "# Teil b - Adaline"
   ]
  },
  {
   "cell_type": "markdown",
   "metadata": {},
   "source": [
    "# Adaptives Lineares Neuron (Adaline)"
   ]
  },
  {
   "cell_type": "markdown",
   "metadata": {},
   "source": [
    "## Weiterentwicklung des Perzeptrons\n",
    "\n",
    "Das Perzeptron liefert keine stabile Lösung, falls das Problem nicht linear trennbar ist. Stabil bedeutet, wenn ein neues Trainingsbeispiel betrachtet wird, nicht sofort alles vergisst, was bis zu diesem Zeitpunkt gelernt wurde. Aus diesem Grund haben Widrow und Hoff ein neuronales Netz vorgeschlagen, das genau diese Eigenschaften besitzt. Sie nannten es *adaptive linear* (ADAptive LInear Neuron) bzw. Adaline. Adaline ist ein weiteres neuronales Netz mit einer einzigen Schicht. Adaline wurde nur wenige Jahre nach dem Perzeptron-Algorithmus veröffentlicht und kann als Verbesserung aufgefasst werden. Es bildet die Grundlage für fortgeschrittene Lernalgorithmen für die Klassifizierung, wie bspw. die logistische Regression, Support Vector Machines, Multi-layer Perceptrons, etc.\n",
    "\n",
    "### Änderungen der Gewichtungen\n",
    "Die Berechnung der Änderungen der Gewichte findet bei beiden Algorithmen unterschiedlich statt: <br>\n",
    "\n",
    "<b>Perzeptron</b>: <br>\n",
    "\n",
    "Beim Perzeptron wird der Ouput, dh die Klassifikation des Inputs, zur Fehlerkorrektur verwendet. Das bedeutet, dass ein Binärwert für die Fehlerkorrektur verwendet wird. <br>\n",
    "\n",
    "$\\Delta w_j = \\eta \\cdot (y^{(i)} - \\hat{y}^{(i)}) \\cdot x_j^{(i)}$ <br>\n",
    "\n",
    "<b>Adaline</b>: <br>\n",
    "\n",
    "\n",
    "Beim Adaline wird der Net Input (dh die gewichtete summe $s$ bzw. $net$) zur Fehlerkorrektur verwendet. Das bedeutet, dass ein kontinuierlicher Wert für die Fehlerkorrektur verwendet wird. Das sorgt dafür, dass die Änderungen an den Gewichten besser in Relation zu den Fehlern stehen. Ein weiterer Unterschied beim Adaline-Algorithmus ist, dass die Berechnung der Gewichtsaktualisierung auf allen Trainingsobjekten erfolgt. Aus diesem Grund wird diese Form des Lernalgorithmus als Stapelverarbeitung bezeichnet.\n",
    "\n",
    "\n",
    "$\\Delta w_j = \\eta \\cdot (y - net) \\cdot x_j$ <br>\n",
    "\n",
    "### Lernen im Adaline-Algorithmus\n",
    "\n",
    "Der wesentliche Unterschied des Adaline-Algorithmus besteht darin, dass die Aktualisierung der Gewichtungen auf einer linearen Aktivierungsfunktion beruht. Allerdings ist $\\phi(s)$ mit $s$ = $\\vec{w}^T \\vec{x} +w_0$ eine reele Zahl und keine ganzzahlige Klassenbezeichnung.  Bei Adaline ist diese Funktion $\\phi(s)$ einfach die identische Abbildung der Nettoeingabefunktion, sodass $\\phi(s) = \\vec{w}^T \\vec{x}+w_0$. Die lineare Aktivierungsfunktion wird dazu genutzt die Gewichtungen zu lernen. Anschließend kann eine Schwellenwertfunktion (besitzt Ähnlichkeit mit der bereits bekannten Sprungfunktion) verwendet werden, um die Klassenbezeichnungen vorherzusagen. <br>\n",
    "\n",
    "Bei fortgeschrittenen Lernalgorithmen, wie bspw. dem Multi-layer Perceptron, kann als Aktivierungsfunktion die Sigmoid-Funktion ( [Siehe Web-Link](https://en.wikipedia.org/wiki/Sigmoid_function) ) eingesetzt werden.\n",
    "\n",
    "Folgende Abbildung zeigt, dass der Adaline-Algorithmus die tatsächlichen Klassenzeichnungen mit den stetigen Ausgaben der linearen Aktivierungsfunktion vergleicht. Um Fehler des Modells zu berechnen und die Gewichtungen zu aktualisieren. <br>\n",
    "\n",
    "\n",
    "\n",
    "\n",
    "<img src=\"./Figures/Adaline.png\" alt=\"drawing\" style=\"width:600px;\"/>\n",
    "\n",
    "\n",
    "Zum Vergleich, das Perzeptron aktualisiert die Gewichtungen nach jedem Objekt inkrementell. Des Weiteren beruht beim Perzeptron die Aktualisierung der Gewichtungen auf einer einfachen Sprungfunktion. Das Perzeptron vergleicht die tatsächlichen Klassenzeichnungen mit den vorhergesagten Klassenzeichnungen.\n",
    "\n",
    "<img src=\"./Figures/Perzeptron.png\" alt=\"drawing\" style=\"width:600px;\"/>"
   ]
  },
  {
   "cell_type": "markdown",
   "metadata": {},
   "source": [
    "## Implementierung\n",
    "\n",
    "Die Implementierungen der Adaline-Regel und der Perzeptron-Regel sind sich sehr ähnlich. Die Implementierung erfolgt innerhalb der Klasse <b>Adaline</b>. Im folgenden werden die einzelnen Methoden und deren Funktionsweise kurz vorgestellt. <br>\n",
    "\n",
    "#### Konstruktor\n",
    "Das Perceptron-Objekt wird mit der Lernrate <b>eta</b> und der Anzahl der Epochen (Durchläufe der Trainingsdaten) <b>epochs</b> initialisiert. Wählen Sie geeignete Werte für die Epoche (Anzahl der Durchläufe) und die Lernrate Eta.\n",
    "\n",
    "#### activation()-Methode:\n",
    "Diese Funktion bewirkt im Code nichts, denn es handelt sich um eine Identitätsfunktion. Sie existiert zur Demonstration, wie Informationen durch ein einschichtiges Neuronales Netz fließen: Merkmale der Eingabedaten, Nettoeingabe, Aktivierungsfunktion und Ausgabe. <br>\n",
    "\n",
    "Weitere Klassifizierer (wie bspw. logistische Regression, Multi-layer Perzeptron, etc.) sind sehr eng mit Adaline verwandt. Denn sie unterscheiden sich in der Aktivierungs- und Straffunktion.\n",
    "\n",
    "#### fit()-Methode:\n",
    "\n",
    "<b>Gewichtungen</b>: <br>\n",
    "Die Gewichtungen werden wie beim Perzeptron initialisiert. <br>\n",
    "Die Aktualisierung der Gewichtung der Bias-Einheit wird anhand der Summe der Errors berechnet.<br>\n",
    "Die Aktualisierung der weiteren Gewichtungen von 1 bis m wird anhand <b>X.T.dot(errors)</b> berechnet. Hierbei handelt es sich um eine *Matrix-Vektor-Multiplikation* von Merkmalsmatrix und Fehlervektor. <br>\n",
    "\n",
    "Die Berechnung der Gewichtsaktualisierung erfolgt auf allen Trainingsobjekten. Zum Vergleich, beim Perzeptron werden die Gewichtungen nach der Berechnung jedes einzelnen Trainingsexemplar aktualisiert. <br>\n",
    "\n",
    "Sammeln Sie in einer Liste <b>cost</b> die in jeder Epoche auftretenden quadrierten Fehler nach folgender Formel: <b>cost_epoch= (error**2).sum() / 2.0</b>. Dadurch kann später analysiert werden, wie gut der Adline-Algorithmus während des Trainings funktioniert hat. Geben Sie diese Liste als Rückgabewert der Methode zurück.<br>"
   ]
  },
  {
   "cell_type": "code",
   "execution_count": 1,
   "metadata": {},
   "outputs": [],
   "source": [
    "# TODO: implement\n",
    "import numpy as np\n",
    "import csv as csv\n",
    "import matplotlib.pyplot as plt\n",
    "import pandas as pd\n",
    "import itertools\n",
    "%matplotlib inline"
   ]
  },
  {
   "cell_type": "code",
   "execution_count": 2,
   "metadata": {},
   "outputs": [],
   "source": [
    "class Adaline(object):\n",
    "    \n",
    "    def __init__(self, eta=None, epochs=None):\n",
    "        self.eta = eta\n",
    "        self.epochs = epochs\n",
    "        self.w = np.random.normal(loc=0.01, size=3)\n",
    "        self.w[0] = 1\n",
    "        self.cost = []\n",
    "        \n",
    "    def gewichtete_summe(self, x):\n",
    "        return x.dot(self.w)\n",
    "    \n",
    "    def activation(self, X):\n",
    "        #linear\n",
    "        return X\n",
    "    \n",
    "    def heaviside(self, summe):\n",
    "        if summe >= 0:\n",
    "            return 1\n",
    "        else: \n",
    "            return 0\n",
    "        \n",
    "    def _add_bias(self, X):\n",
    "        bias = np.ones((X.shape[0], 1))\n",
    "        biased_X = np.hstack((bias, X))\n",
    "        return biased_X\n",
    "    \n",
    "    def fit(self, X, y):\n",
    "            X = self._add_bias(X)\n",
    "            for e in range(self.epochs):\n",
    "                cost_epoch = 0\n",
    "                errors = []\n",
    "                predict_array = []\n",
    "                \n",
    "                for i in range(len(X)):\n",
    "                    summe = self.gewichtete_summe(X[i])\n",
    "                    activation_sum = self.activation(summe)\n",
    "                    errors.append(activation_sum)\n",
    "                    predict_array.append(self.heaviside(activation_sum))\n",
    "\n",
    "                    \n",
    "                #Δ𝑤𝑗=𝜂⋅(𝑦−𝑛𝑒𝑡)⋅𝑥𝑗 \n",
    "                Y_minus_error = np.subtract(y, np.array(errors))\n",
    "                self.w = self.w + self.eta * X.T.dot(Y_minus_error)\n",
    "                cost_epoch= (np.array(Y_minus_error ) ** 2).sum() / 2.0\n",
    "                self.cost.append(cost_epoch)\n",
    "            \n",
    "            return self.cost \n"
   ]
  },
  {
   "cell_type": "markdown",
   "metadata": {},
   "source": [
    "## Datensatz, Training und Visualisierung des Errors"
   ]
  },
  {
   "cell_type": "markdown",
   "metadata": {},
   "source": [
    "Wählen Sie denselben Datensatz wie beim Perzeptron. <br>\n",
    "Führen Sie das Training anhand verschiedener Parameter aus und visualisieren Sie die Ergebnisse. <br>"
   ]
  },
  {
   "cell_type": "code",
   "execution_count": 5,
   "metadata": {},
   "outputs": [
    {
     "name": "stdout",
     "output_type": "stream",
     "text": [
      "[1278.9932153355041, 477.75393149913765, 193.56232562552083, 92.43055462337485, 56.1180781879157, 42.764454656484, 37.54976684508624, 35.227143926530935, 33.93882488853297, 33.026885865602026, 32.25818120600022, 31.549952569332007, 30.872687383867447, 30.215728137462285, 29.575097079485232, 28.94918575175297, 28.3372288733759, 27.73876396063989, 27.153439924543836, 26.58094921746122, 26.02100372138257, 25.473326123772935, 24.93764677837009, 24.413702509678206, 23.901236107422697, 23.399996067072756, 22.909736419241522, 22.430216592276523, 21.96120128828741, 21.502460365581236, 21.053768724980262, 20.61490619909301, 20.185657444175238, 19.765811834417793, 19.355163358571275, 18.953510518842688, 18.56065623200966, 18.17640773270225, 17.800576478803734, 17.432978058924387, 17.07343210190221, 16.72176218828648, 16.377795763760606, 16.04136405446181, 15.712301984155944, 15.39044809322702, 15.075644459441516, 14.767736620448671, 14.466573497978676, 14.17200732370161]\n"
     ]
    },
    {
     "data": {
      "image/png": "[encoded data removed]",
      "text/plain": [
       "<Figure size 432x288 with 1 Axes>"
      ]
     },
     "metadata": {
      "needs_background": "light"
     },
     "output_type": "display_data"
    }
   ],
   "source": [
    "df = pd.read_csv(\"./Data/iris.data\", header=None, sep=\",\")\n",
    "df_shuffled = df.sample(frac=1) \n",
    "\n",
    "# Auswahl von setosa und versicolor\n",
    "dffilter = df_shuffled[df_shuffled[4]!=\"Iris-virginica\"].copy()\n",
    "dffilter.loc[dffilter[4] == \"Iris-setosa\" , 4] =  0\n",
    "dffilter.loc[dffilter[4] == \"Iris-versicolor\" , 4] =  1\n",
    "\n",
    "\n",
    "myAdaline = Adaline(eta=0.0001, epochs=50)\n",
    "\n",
    "    \n",
    "X = np.array(dffilter[[0,2]]) # TODO: implement \n",
    "\n",
    "# Auswahl von Kelch- und Bluetenblattlaenge\n",
    "\n",
    "y = np.array(dffilter[4]) # TODO: implement\n",
    "\n",
    "\n",
    "error = myAdaline.fit(X,y)\n",
    "print(error)\n",
    "fig, ax = plt.subplots()\n",
    "ax.plot(range(len(error)), error)\n",
    "\n",
    "ax.set(xlabel='Epochen', ylabel='MeanSquareError')\n",
    "ax.grid()\n",
    "\n",
    "plt.show()"
   ]
  },
  {
   "cell_type": "code",
   "execution_count": null,
   "metadata": {},
   "outputs": [],
   "source": []
  },
  {
   "cell_type": "code",
   "execution_count": null,
   "metadata": {},
   "outputs": [],
   "source": []
  }
 ],
 "metadata": {
  "kernelspec": {
   "display_name": "Python 3",
   "language": "python",
   "name": "python3"
  },
  "language_info": {
   "codemirror_mode": {
    "name": "ipython",
    "version": 3
   },
   "file_extension": ".py",
   "mimetype": "text/x-python",
   "name": "python",
   "nbconvert_exporter": "python",
   "pygments_lexer": "ipython3",
   "version": "3.7.6"
  }
 },
 "nbformat": 4,
 "nbformat_minor": 2
}
