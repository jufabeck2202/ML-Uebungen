{
 "cells": [
  {
   "cell_type": "markdown",
   "metadata": {},
   "source": [
    "# Teil c - Merkmalstandardisierung"
   ]
  },
  {
   "cell_type": "markdown",
   "metadata": {},
   "source": [
    "# Verbesserung durch Merkmalstandardisierung"
   ]
  },
  {
   "cell_type": "markdown",
   "metadata": {},
   "source": [
    "## Methode der Standardisierung und Auswirkung auf die Algorithmen\n",
    "\n",
    "Viele Lernalgorithmen machen es erforderlich die Merkmale zu standardisieren um eine optimale Leistung zu erzielen. Die Algorithmen Perzeptron und Adaline gehören zu den vielen Algorithmen, die von einer Standardisierung profitieren.\n",
    "\n",
    "Im folgenden wird die Methode <i>Standardisierung</i> erläutert. Diese verleiht den Daten die Eigenschaften einer Standardnormalverteilung. Der Mittelwert jedes Merkmals beträgt 0, die Standardabweichung jeder Spalte beträgt 1. Um zum Beispiel das Merkmal j zu standardiesieren, wird der Mittelwert $\\mu$ der jeweiligen Stichprobe abgezogen und das Ergebnis durch die Standardabweichung $\\sigma$ dividiert. Das Standardisierungsverfahren wird auf alle Merkmale der Datenmenge angewendet.\n",
    "\n",
    "$x_j^{\\prime(i)} = \\frac{x_j^{(i)} - \\mu_j}{\\sigma_j}$. \n",
    "\n",
    "Die Standardisierung verbessert die Algorithmen, weil zum Auffinden einer guten/ optimalen Lösung (das globale Minimum der Straffunktion) weniger Schritte erforderlich sind. Folgende Abbildung stellen die Strafflächen einer zweidimensionalen Klassifizierungsaufgabe als Funktion der Gewichtungen dar.\n",
    "\n",
    "<img src=\"./Figures/Merkmalstandardisierung.png\" alt=\"drawing\" style=\"width:500px;\"/>\n"
   ]
  },
  {
   "cell_type": "markdown",
   "metadata": {},
   "source": [
    "## Implementierung\n",
    "\n",
    "Selektieren Sie exakt dieselben Daten des Iris-Datensatzes aus Teil a und nehmen Sie die Standardisierung vor. <br>\n",
    "\n",
    "Trainineren Sie den entweder den Perzeptron-Algorithmus oder den Adaline-Algorithmus aus Teil a mit den standardisierten Daten mit verschiedenen Parametern. <br>\n",
    "\n",
    "Vergleichen Sie die Ergebnisse zwischen den standardisierten Daten und den nicht-standardisierten Daten. Stellen Sie die verschiedenen Resultate dar.<br>"
   ]
  },
  {
   "cell_type": "code",
   "execution_count": 1,
   "metadata": {},
   "outputs": [
    {
     "data": {
      "text/html": [
       "<div>\n",
       "<style scoped>\n",
       "    .dataframe tbody tr th:only-of-type {\n",
       "        vertical-align: middle;\n",
       "    }\n",
       "\n",
       "    .dataframe tbody tr th {\n",
       "        vertical-align: top;\n",
       "    }\n",
       "\n",
       "    .dataframe thead th {\n",
       "        text-align: right;\n",
       "    }\n",
       "</style>\n",
       "<table border=\"1\" class=\"dataframe\">\n",
       "  <thead>\n",
       "    <tr style=\"text-align: right;\">\n",
       "      <th></th>\n",
       "      <th>A</th>\n",
       "      <th>B</th>\n",
       "      <th>C</th>\n",
       "      <th>D</th>\n",
       "      <th>E</th>\n",
       "    </tr>\n",
       "  </thead>\n",
       "  <tbody>\n",
       "    <tr>\n",
       "      <th>18</th>\n",
       "      <td>5.7</td>\n",
       "      <td>3.8</td>\n",
       "      <td>1.7</td>\n",
       "      <td>0.3</td>\n",
       "      <td>Iris-setosa</td>\n",
       "    </tr>\n",
       "    <tr>\n",
       "      <th>89</th>\n",
       "      <td>5.5</td>\n",
       "      <td>2.5</td>\n",
       "      <td>4.0</td>\n",
       "      <td>1.3</td>\n",
       "      <td>Iris-versicolor</td>\n",
       "    </tr>\n",
       "    <tr>\n",
       "      <th>56</th>\n",
       "      <td>6.3</td>\n",
       "      <td>3.3</td>\n",
       "      <td>4.7</td>\n",
       "      <td>1.6</td>\n",
       "      <td>Iris-versicolor</td>\n",
       "    </tr>\n",
       "    <tr>\n",
       "      <th>107</th>\n",
       "      <td>7.3</td>\n",
       "      <td>2.9</td>\n",
       "      <td>6.3</td>\n",
       "      <td>1.8</td>\n",
       "      <td>Iris-virginica</td>\n",
       "    </tr>\n",
       "    <tr>\n",
       "      <th>74</th>\n",
       "      <td>6.4</td>\n",
       "      <td>2.9</td>\n",
       "      <td>4.3</td>\n",
       "      <td>1.3</td>\n",
       "      <td>Iris-versicolor</td>\n",
       "    </tr>\n",
       "  </tbody>\n",
       "</table>\n",
       "</div>"
      ],
      "text/plain": [
       "       A    B    C    D                E\n",
       "18   5.7  3.8  1.7  0.3      Iris-setosa\n",
       "89   5.5  2.5  4.0  1.3  Iris-versicolor\n",
       "56   6.3  3.3  4.7  1.6  Iris-versicolor\n",
       "107  7.3  2.9  6.3  1.8   Iris-virginica\n",
       "74   6.4  2.9  4.3  1.3  Iris-versicolor"
      ]
     },
     "execution_count": 1,
     "metadata": {},
     "output_type": "execute_result"
    }
   ],
   "source": [
    "import numpy as np\n",
    "import csv as csv\n",
    "import matplotlib.pyplot as plt\n",
    "import pandas as pd\n",
    "import itertools\n",
    "%matplotlib inline\n",
    "\n",
    "\n",
    "df = pd.read_csv(\"./Data/iris.data\", header=None, sep=\",\", names=[\"A\", \"B\", \"C\", \"D\",\"E\"])\n",
    "df_shuffled = df.sample(frac=1) \n",
    "df_shuffled.head()"
   ]
  },
  {
   "cell_type": "markdown",
   "metadata": {},
   "source": [
    "## Auswahl der Daten"
   ]
  },
  {
   "cell_type": "code",
   "execution_count": 2,
   "metadata": {},
   "outputs": [],
   "source": [
    "dffilter = df_shuffled[df_shuffled[\"E\"]!=\"Iris-virginica\"].copy()\n",
    "dffilter.loc[dffilter[\"E\"] == \"Iris-setosa\" , \"E\"] =  0\n",
    "dffilter.loc[dffilter[\"E\"] == \"Iris-versicolor\" , \"E\"] =  1\n",
    "        \n",
    "X = np.array(dffilter[[\"A\",\"C\"]]) # TODO: implement \n",
    "y = np.array(dffilter[\"E\"]) # TODO: implement\n",
    "        "
   ]
  },
  {
   "cell_type": "markdown",
   "metadata": {},
   "source": [
    "## Implementierung der Standardisierung"
   ]
  },
  {
   "cell_type": "code",
   "execution_count": 3,
   "metadata": {},
   "outputs": [],
   "source": [
    "#normalice data column \n",
    "def normalize_colummn(feature):\n",
    "    mean = feature.mean()\n",
    "    std = feature.std()\n",
    "    feature_array = feature.to_numpy()\n",
    "    \n",
    "    for index in range(len(feature_array)):\n",
    "        feature_array[index] = (float(feature_array[index]) - mean) / std\n",
    "        #print(float(feature_array[index]) - mean, feature_array[index])\n",
    "    return pd.DataFrame(feature_array)\n",
    "\n",
    "#normalize Age and Fare    \n",
    "def normalize(df):\n",
    "    new_dataFrame = df.copy()\n",
    "    new_dataFrame.assign(A=normalize_colummn(new_dataFrame[\"A\"]))\n",
    "    new_dataFrame.assign(C=normalize_colummn(new_dataFrame[\"C\"]))\n",
    "    return  new_dataFrame # TODO implement\n",
    "\n",
    "#normalize data\n",
    "X_norm = np.array(normalize(dffilter[[\"A\",\"C\"]]))"
   ]
  },
  {
   "cell_type": "markdown",
   "metadata": {},
   "source": [
    "## Training und Visualisierung des Errors"
   ]
  },
  {
   "cell_type": "code",
   "execution_count": 4,
   "metadata": {},
   "outputs": [],
   "source": [
    "class Perceptron(object):\n",
    "    \n",
    "    def __init__(self, eta=None, epochs=None):\n",
    "        self.eta = eta\n",
    "        self.epochs = epochs\n",
    "        self.w = np.random.normal(loc=0.01, size=3)\n",
    "        self.w[0] = 1\n",
    "        self.errors = []\n",
    "\n",
    "        \n",
    "    def gewichtete_summe(self, x):\n",
    "        return x.dot(self.w[1:]) + self.w[0]\n",
    "\n",
    "        \n",
    "    def heaviside(self, summe):\n",
    "        if summe >= 0:\n",
    "            return 1\n",
    "        else: \n",
    "            return 0\n",
    "    \n",
    "    def fit(self, X, y):\n",
    "        for e in range(self.epochs):\n",
    "            sum_error = 0\n",
    "            for i in range(len(X)):\n",
    "                summe = self.gewichtete_summe(X[i])\n",
    "\n",
    "                prediction = self.heaviside(summe)\n",
    "                error = y[i] - prediction\n",
    "                sum_error = sum_error + np.abs(error)\n",
    "                for j in range(len(self.w[1:])):\n",
    "                    self.w[j+1] = self.w[j+1] + self.eta * error * X[i][j]\n",
    "            self.errors.append(sum_error)\n",
    "        \n",
    "        return self.errors \n",
    "            "
   ]
  },
  {
   "cell_type": "code",
   "execution_count": 5,
   "metadata": {},
   "outputs": [],
   "source": [
    "class Adaline(object):\n",
    "    \n",
    "    def __init__(self, eta=None, epochs=None):\n",
    "        self.eta = eta\n",
    "        self.epochs = epochs\n",
    "        self.w = np.random.normal(loc=0.01, size=3)\n",
    "        self.w[0] = 1\n",
    "        self.cost = []\n",
    "        \n",
    "    def gewichtete_summe(self, x):\n",
    "        return x.dot(self.w)\n",
    "    \n",
    "    def activation(self, X):\n",
    "        #linear\n",
    "        return X\n",
    "        \n",
    "    def _add_bias(self, X):\n",
    "        bias = np.ones((X.shape[0], 1))\n",
    "        biased_X = np.hstack((bias, X))\n",
    "        return biased_X\n",
    "    \n",
    "    def fit(self, X, y):\n",
    "            X = self._add_bias(X)\n",
    "            for e in range(self.epochs):\n",
    "                cost_epoch = 0\n",
    "                errors = []\n",
    "                \n",
    "                for i in range(len(X)):\n",
    "                    summe = self.gewichtete_summe(X[i])\n",
    "                    activation_sum = self.activation(summe)\n",
    "                    errors.append(activation_sum)\n",
    "                    \n",
    "                #Δ𝑤𝑗=𝜂⋅(𝑦−𝑛𝑒𝑡)⋅𝑥𝑗 \n",
    "                Y_minus_error = np.subtract(y, np.array(errors))\n",
    "                self.w = self.w + self.eta * X.T.dot(Y_minus_error)\n",
    "                cost_epoch= (np.array(Y_minus_error ) ** 2).sum() / 2.0\n",
    "                self.cost.append(cost_epoch)\n",
    "            \n",
    "            return self.cost "
   ]
  },
  {
   "cell_type": "code",
   "execution_count": 6,
   "metadata": {},
   "outputs": [],
   "source": [
    "myPerceptron = Perceptron(eta=0.01, epochs=70)\n",
    "p_error = myPerceptron.fit(X,y)\n",
    "\n",
    "myPerceptron1 = Perceptron(eta=0.01, epochs=70)\n",
    "p_error_norm = myPerceptron1.fit(X_norm,y)\n"
   ]
  },
  {
   "cell_type": "code",
   "execution_count": 10,
   "metadata": {},
   "outputs": [],
   "source": [
    "myAdaline = Adaline(eta=0.0001, epochs=70)\n",
    "a_error = myAdaline.fit(X,y)\n",
    "\n",
    "myAdaline = Adaline(eta=0.0001, epochs=70)\n",
    "a_error_norm = myAdaline.fit(X_norm,y)\n"
   ]
  },
  {
   "cell_type": "code",
   "execution_count": 11,
   "metadata": {},
   "outputs": [
    {
     "data": {
      "text/plain": [
       "<matplotlib.legend.Legend at 0x2589ff30d08>"
      ]
     },
     "execution_count": 11,
     "metadata": {},
     "output_type": "execute_result"
    },
    {
     "data": {
      "image/png": "[encoded data removed]",
      "text/plain": [
       "<Figure size 432x288 with 1 Axes>"
      ]
     },
     "metadata": {
      "needs_background": "light"
     },
     "output_type": "display_data"
    }
   ],
   "source": [
    "plt.plot( range(len(p_error)), p_error, label=\"not norm\")\n",
    "plt.plot( range(len(p_error_norm)),p_error_norm, label=\"norm\")\n",
    "\n",
    "plt.legend()\n"
   ]
  },
  {
   "cell_type": "code",
   "execution_count": 12,
   "metadata": {},
   "outputs": [
    {
     "data": {
      "text/plain": [
       "<matplotlib.legend.Legend at 0x2589ffdc748>"
      ]
     },
     "execution_count": 12,
     "metadata": {},
     "output_type": "execute_result"
    },
    {
     "data": {
      "image/png": "[encoded data removed]",
      "text/plain": [
       "<Figure size 432x288 with 1 Axes>"
      ]
     },
     "metadata": {
      "needs_background": "light"
     },
     "output_type": "display_data"
    }
   ],
   "source": [
    "plt.plot( range(len(a_error)), a_error, label=\"not norm\")\n",
    "plt.plot( range(len(a_error_norm)),a_error_norm ,label=\"norm\")\n",
    "plt.legend()\n"
   ]
  },
  {
   "cell_type": "code",
   "execution_count": null,
   "metadata": {},
   "outputs": [],
   "source": []
  }
 ],
 "metadata": {
  "kernelspec": {
   "display_name": "Python 3",
   "language": "python",
   "name": "python3"
  },
  "language_info": {
   "codemirror_mode": {
    "name": "ipython",
    "version": 3
   },
   "file_extension": ".py",
   "mimetype": "text/x-python",
   "name": "python",
   "nbconvert_exporter": "python",
   "pygments_lexer": "ipython3",
   "version": "3.7.7"
  }
 },
 "nbformat": 4,
 "nbformat_minor": 2
}
