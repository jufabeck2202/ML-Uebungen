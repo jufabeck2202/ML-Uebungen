{
 "cells": [
  {
   "cell_type": "markdown",
   "metadata": {},
   "source": [
    "# Einführung Titanic-Datensatz"
   ]
  },
  {
   "cell_type": "markdown",
   "metadata": {},
   "source": [
    "Das Ziel der heutigen Vorlesung ist den Titanic-Datensatz von kaggle.com zu untersuchen.\n",
    "\n",
    "Eine Beschreibung des Titanic-Datensatz ist hier zu finden:\n",
    "https://www.kaggle.com/c/titanic\n",
    "***\n",
    "```\n",
    "The sinking of the RMS Titanic is one of the most infamous shipwrecks in history.  On April 15, 1912, during her maiden voyage, the Titanic sank after colliding with an iceberg, killing 1502 out of 2224 passengers and crew. This sensational tragedy shocked the international community and led to better safety regulations for ships.\n",
    "\n",
    "One of the reasons that the shipwreck led to such loss of life was that there were not enough lifeboats for the passengers and crew. Although there was some element of luck involved in surviving the sinking, some groups of people were more likely to survive than others, such as women, children, and the upper-class.\n",
    "\n",
    "In this challenge, we ask you to complete the analysis of what sorts of people were likely to survive. In particular, we ask you to apply the tools of machine learning to predict which passengers survived the tragedy.\n",
    "\n",
    "\n",
    "VARIABLE DESCRIPTIONS:\n",
    "survived        Survival\n",
    "                (0 = No; 1 = Yes)\n",
    "pclass          Passenger Class\n",
    "                (1 = 1st; 2 = 2nd; 3 = 3rd)\n",
    "name            Name\n",
    "sex             Sex\n",
    "age             Age\n",
    "sibsp           Number of Siblings/Spouses Aboard\n",
    "parch           Number of Parents/Children Aboard\n",
    "ticket          Ticket Number\n",
    "fare            Passenger Fare\n",
    "cabin           Cabin\n",
    "embarked        Port of Embarkation\n",
    "                (C = Cherbourg; Q = Queenstown; S = Southampton)\n",
    "\n",
    "SPECIAL NOTES:\n",
    "Pclass is a proxy for socio-economic status (SES)\n",
    " 1st ~ Upper; 2nd ~ Middle; 3rd ~ Lower\n",
    "\n",
    "Age is in Years; Fractional if Age less than One (1)\n",
    " If the Age is Estimated, it is in the form xx.5\n",
    "\n",
    "With respect to the family relation variables (i.e. sibsp and parch)\n",
    "some relations were ignored.  The following are the definitions used\n",
    "for sibsp and parch.\n",
    "\n",
    "Sibling:  Brother, Sister, Stepbrother, or Stepsister of Passenger Aboard Titanic\n",
    "Spouse:   Husband or Wife of Passenger Aboard Titanic (Mistresses and Fiances Ignored)\n",
    "Parent:   Mother or Father of Passenger Aboard Titanic\n",
    "Child:    Son, Daughter, Stepson, or Stepdaughter of Passenger Aboard Titanic\n",
    "\n",
    "Other family relatives excluded from this study include cousins,\n",
    "nephews/nieces, aunts/uncles, and in-laws.  Some children travelled\n",
    "only with a nanny, therefore parch=0 for them.  As well, some\n",
    "travelled with very close friends or neighbors in a village, however,\n",
    "the definitions do not support such relations.\n",
    "```\n",
    "***\n",
    "\n",
    "\n",
    "Im Rahmen der Aufgaben werden folgende bereits bekannte Frameworks verwendet:\n",
    "- numPy:   Numerik-Framework, \"Brücke\" zu Fortran / C (http://www.numpy.org/)\n",
    "- pandas:  Datenstrukturen und zugehörige Operationen (http://pandas.pydata.org/)\n",
    "- pyplot:  prozedurales Interface für Matplotlib          (http://matplotlib.org/users/pyplot_tutorial.html)\n",
    "\n",
    "Im Folgenden werden die für diese Aufgabe benötigten Imports getätigt, sowie den Datensatz als *Pandas Dataframe* eingelesen:"
   ]
  },
  {
   "cell_type": "code",
   "execution_count": 1,
   "metadata": {},
   "outputs": [],
   "source": [
    "import numpy as np\n",
    "import csv as csv\n",
    "import matplotlib.pyplot as plt\n",
    "import pandas as pd\n",
    "import itertools\n",
    "%matplotlib inline\n",
    "\n",
    "DATA_FILE = './Data/original_titanic.csv'\n",
    "df = pd.read_csv(DATA_FILE, header=0)"
   ]
  },
  {
   "cell_type": "markdown",
   "metadata": {},
   "source": [
    "## 1.) Datenanalyse mit Pandas \n",
    "Das DataFrame Object aus der panda Bibliothek ist eine mächtige Datenstruktur mit vielen praktischen Funktionen um mit großen Datensätzen umzugehen. Um einen schnellen Einstieg in pandas zu erhalten empfehle ich Ihnen ein Blick in das 10 Minutes to pandas Tutorial zu werfen: http://pandas.pydata.org/pandas-docs/stable/10min.html. Umfangreiche Informationen finden Sie in der pandas Dokumentation (http://pandas.pydata.org/pandas-docs/stable/index.html). Häufig ist auch die ipython Autovervollständigung (TAB) ein gutes Hilfsmittel um entsprechende Methoden das DataFrames zu finden.\n",
    "\n",
    "Im Folgenden finden Sie einige einfache, selbsterklärende Beispiele für den Umgang mit dem Pandas DataFrame. Führen Sie die Beispiele aus (z.B. in dem Sie bei fokussierter Zelle Shift+ENTER drücken) und schauen Sie sich die Ergebnisse an. \n",
    " "
   ]
  },
  {
   "cell_type": "code",
   "execution_count": 2,
   "metadata": {
    "scrolled": false
   },
   "outputs": [
    {
     "name": "stdout",
     "output_type": "stream",
     "text": [
      "<class 'pandas.core.frame.DataFrame'>\n",
      "RangeIndex: 1309 entries, 0 to 1308\n",
      "Data columns (total 13 columns):\n",
      " #   Column       Non-Null Count  Dtype  \n",
      "---  ------       --------------  -----  \n",
      " 0   PassengerId  1309 non-null   int64  \n",
      " 1   Survived     1309 non-null   int64  \n",
      " 2   Pclass       1309 non-null   int64  \n",
      " 3   Name         1309 non-null   object \n",
      " 4   Sex          1309 non-null   object \n",
      " 5   Age          1046 non-null   float64\n",
      " 6   SibSp        1309 non-null   int64  \n",
      " 7   Parch        1309 non-null   int64  \n",
      " 8   Ticket       1309 non-null   object \n",
      " 9   Fare         1308 non-null   float64\n",
      " 10  Cabin        295 non-null    object \n",
      " 11  Embarked     1307 non-null   object \n",
      " 12  Home-Dest    745 non-null    object \n",
      "dtypes: float64(2), int64(5), object(6)\n",
      "memory usage: 133.1+ KB\n"
     ]
    }
   ],
   "source": [
    "df.info()"
   ]
  },
  {
   "cell_type": "code",
   "execution_count": 3,
   "metadata": {
    "scrolled": true
   },
   "outputs": [
    {
     "data": {
      "text/html": [
       "<div>\n",
       "<style scoped>\n",
       "    .dataframe tbody tr th:only-of-type {\n",
       "        vertical-align: middle;\n",
       "    }\n",
       "\n",
       "    .dataframe tbody tr th {\n",
       "        vertical-align: top;\n",
       "    }\n",
       "\n",
       "    .dataframe thead th {\n",
       "        text-align: right;\n",
       "    }\n",
       "</style>\n",
       "<table border=\"1\" class=\"dataframe\">\n",
       "  <thead>\n",
       "    <tr style=\"text-align: right;\">\n",
       "      <th></th>\n",
       "      <th>PassengerId</th>\n",
       "      <th>Survived</th>\n",
       "      <th>Pclass</th>\n",
       "      <th>Age</th>\n",
       "      <th>SibSp</th>\n",
       "      <th>Parch</th>\n",
       "      <th>Fare</th>\n",
       "    </tr>\n",
       "  </thead>\n",
       "  <tbody>\n",
       "    <tr>\n",
       "      <th>count</th>\n",
       "      <td>1309.000000</td>\n",
       "      <td>1309.000000</td>\n",
       "      <td>1309.000000</td>\n",
       "      <td>1046.000000</td>\n",
       "      <td>1309.000000</td>\n",
       "      <td>1309.000000</td>\n",
       "      <td>1308.000000</td>\n",
       "    </tr>\n",
       "    <tr>\n",
       "      <th>mean</th>\n",
       "      <td>655.000000</td>\n",
       "      <td>0.381971</td>\n",
       "      <td>2.294882</td>\n",
       "      <td>29.881138</td>\n",
       "      <td>0.498854</td>\n",
       "      <td>0.385027</td>\n",
       "      <td>33.295479</td>\n",
       "    </tr>\n",
       "    <tr>\n",
       "      <th>std</th>\n",
       "      <td>378.020061</td>\n",
       "      <td>0.486055</td>\n",
       "      <td>0.837836</td>\n",
       "      <td>14.413493</td>\n",
       "      <td>1.041658</td>\n",
       "      <td>0.865560</td>\n",
       "      <td>51.758668</td>\n",
       "    </tr>\n",
       "    <tr>\n",
       "      <th>min</th>\n",
       "      <td>1.000000</td>\n",
       "      <td>0.000000</td>\n",
       "      <td>1.000000</td>\n",
       "      <td>0.170000</td>\n",
       "      <td>0.000000</td>\n",
       "      <td>0.000000</td>\n",
       "      <td>0.000000</td>\n",
       "    </tr>\n",
       "    <tr>\n",
       "      <th>25%</th>\n",
       "      <td>328.000000</td>\n",
       "      <td>0.000000</td>\n",
       "      <td>2.000000</td>\n",
       "      <td>21.000000</td>\n",
       "      <td>0.000000</td>\n",
       "      <td>0.000000</td>\n",
       "      <td>7.895800</td>\n",
       "    </tr>\n",
       "    <tr>\n",
       "      <th>50%</th>\n",
       "      <td>655.000000</td>\n",
       "      <td>0.000000</td>\n",
       "      <td>3.000000</td>\n",
       "      <td>28.000000</td>\n",
       "      <td>0.000000</td>\n",
       "      <td>0.000000</td>\n",
       "      <td>14.454200</td>\n",
       "    </tr>\n",
       "    <tr>\n",
       "      <th>75%</th>\n",
       "      <td>982.000000</td>\n",
       "      <td>1.000000</td>\n",
       "      <td>3.000000</td>\n",
       "      <td>39.000000</td>\n",
       "      <td>1.000000</td>\n",
       "      <td>0.000000</td>\n",
       "      <td>31.275000</td>\n",
       "    </tr>\n",
       "    <tr>\n",
       "      <th>max</th>\n",
       "      <td>1309.000000</td>\n",
       "      <td>1.000000</td>\n",
       "      <td>3.000000</td>\n",
       "      <td>80.000000</td>\n",
       "      <td>8.000000</td>\n",
       "      <td>9.000000</td>\n",
       "      <td>512.329200</td>\n",
       "    </tr>\n",
       "  </tbody>\n",
       "</table>\n",
       "</div>"
      ],
      "text/plain": [
       "       PassengerId     Survived       Pclass          Age        SibSp  \\\n",
       "count  1309.000000  1309.000000  1309.000000  1046.000000  1309.000000   \n",
       "mean    655.000000     0.381971     2.294882    29.881138     0.498854   \n",
       "std     378.020061     0.486055     0.837836    14.413493     1.041658   \n",
       "min       1.000000     0.000000     1.000000     0.170000     0.000000   \n",
       "25%     328.000000     0.000000     2.000000    21.000000     0.000000   \n",
       "50%     655.000000     0.000000     3.000000    28.000000     0.000000   \n",
       "75%     982.000000     1.000000     3.000000    39.000000     1.000000   \n",
       "max    1309.000000     1.000000     3.000000    80.000000     8.000000   \n",
       "\n",
       "             Parch         Fare  \n",
       "count  1309.000000  1308.000000  \n",
       "mean      0.385027    33.295479  \n",
       "std       0.865560    51.758668  \n",
       "min       0.000000     0.000000  \n",
       "25%       0.000000     7.895800  \n",
       "50%       0.000000    14.454200  \n",
       "75%       0.000000    31.275000  \n",
       "max       9.000000   512.329200  "
      ]
     },
     "execution_count": 3,
     "metadata": {},
     "output_type": "execute_result"
    }
   ],
   "source": [
    "df.describe()"
   ]
  },
  {
   "cell_type": "code",
   "execution_count": 4,
   "metadata": {},
   "outputs": [
    {
     "data": {
      "text/html": [
       "<div>\n",
       "<style scoped>\n",
       "    .dataframe tbody tr th:only-of-type {\n",
       "        vertical-align: middle;\n",
       "    }\n",
       "\n",
       "    .dataframe tbody tr th {\n",
       "        vertical-align: top;\n",
       "    }\n",
       "\n",
       "    .dataframe thead th {\n",
       "        text-align: right;\n",
       "    }\n",
       "</style>\n",
       "<table border=\"1\" class=\"dataframe\">\n",
       "  <thead>\n",
       "    <tr style=\"text-align: right;\">\n",
       "      <th></th>\n",
       "      <th>PassengerId</th>\n",
       "      <th>Survived</th>\n",
       "      <th>Pclass</th>\n",
       "      <th>Name</th>\n",
       "      <th>Sex</th>\n",
       "      <th>Age</th>\n",
       "      <th>SibSp</th>\n",
       "      <th>Parch</th>\n",
       "      <th>Ticket</th>\n",
       "      <th>Fare</th>\n",
       "      <th>Cabin</th>\n",
       "      <th>Embarked</th>\n",
       "      <th>Home-Dest</th>\n",
       "    </tr>\n",
       "  </thead>\n",
       "  <tbody>\n",
       "    <tr>\n",
       "      <th>0</th>\n",
       "      <td>1</td>\n",
       "      <td>1</td>\n",
       "      <td>1</td>\n",
       "      <td>Allen, Miss. Elisabeth Walton</td>\n",
       "      <td>female</td>\n",
       "      <td>29.00</td>\n",
       "      <td>0</td>\n",
       "      <td>0</td>\n",
       "      <td>24160</td>\n",
       "      <td>211.3375</td>\n",
       "      <td>B5</td>\n",
       "      <td>S</td>\n",
       "      <td>St Louis, MO</td>\n",
       "    </tr>\n",
       "    <tr>\n",
       "      <th>1</th>\n",
       "      <td>2</td>\n",
       "      <td>1</td>\n",
       "      <td>1</td>\n",
       "      <td>Allison, Master. Hudson Trevor</td>\n",
       "      <td>male</td>\n",
       "      <td>0.92</td>\n",
       "      <td>1</td>\n",
       "      <td>2</td>\n",
       "      <td>113781</td>\n",
       "      <td>151.5500</td>\n",
       "      <td>C22 C26</td>\n",
       "      <td>S</td>\n",
       "      <td>Montreal, PQ / Chesterville, ON</td>\n",
       "    </tr>\n",
       "    <tr>\n",
       "      <th>2</th>\n",
       "      <td>3</td>\n",
       "      <td>0</td>\n",
       "      <td>1</td>\n",
       "      <td>Allison, Miss. Helen Loraine</td>\n",
       "      <td>female</td>\n",
       "      <td>2.00</td>\n",
       "      <td>1</td>\n",
       "      <td>2</td>\n",
       "      <td>113781</td>\n",
       "      <td>151.5500</td>\n",
       "      <td>C22 C26</td>\n",
       "      <td>S</td>\n",
       "      <td>Montreal, PQ / Chesterville, ON</td>\n",
       "    </tr>\n",
       "    <tr>\n",
       "      <th>3</th>\n",
       "      <td>4</td>\n",
       "      <td>0</td>\n",
       "      <td>1</td>\n",
       "      <td>Allison, Mr. Hudson Joshua Creighton</td>\n",
       "      <td>male</td>\n",
       "      <td>30.00</td>\n",
       "      <td>1</td>\n",
       "      <td>2</td>\n",
       "      <td>113781</td>\n",
       "      <td>151.5500</td>\n",
       "      <td>C22 C26</td>\n",
       "      <td>S</td>\n",
       "      <td>Montreal, PQ / Chesterville, ON</td>\n",
       "    </tr>\n",
       "    <tr>\n",
       "      <th>4</th>\n",
       "      <td>5</td>\n",
       "      <td>0</td>\n",
       "      <td>1</td>\n",
       "      <td>Allison, Mrs. Hudson J C (Bessie Waldo Daniels)</td>\n",
       "      <td>female</td>\n",
       "      <td>25.00</td>\n",
       "      <td>1</td>\n",
       "      <td>2</td>\n",
       "      <td>113781</td>\n",
       "      <td>151.5500</td>\n",
       "      <td>C22 C26</td>\n",
       "      <td>S</td>\n",
       "      <td>Montreal, PQ / Chesterville, ON</td>\n",
       "    </tr>\n",
       "  </tbody>\n",
       "</table>\n",
       "</div>"
      ],
      "text/plain": [
       "   PassengerId  Survived  Pclass  \\\n",
       "0            1         1       1   \n",
       "1            2         1       1   \n",
       "2            3         0       1   \n",
       "3            4         0       1   \n",
       "4            5         0       1   \n",
       "\n",
       "                                              Name     Sex    Age  SibSp  \\\n",
       "0                    Allen, Miss. Elisabeth Walton  female  29.00      0   \n",
       "1                   Allison, Master. Hudson Trevor    male   0.92      1   \n",
       "2                     Allison, Miss. Helen Loraine  female   2.00      1   \n",
       "3             Allison, Mr. Hudson Joshua Creighton    male  30.00      1   \n",
       "4  Allison, Mrs. Hudson J C (Bessie Waldo Daniels)  female  25.00      1   \n",
       "\n",
       "   Parch  Ticket      Fare    Cabin Embarked                        Home-Dest  \n",
       "0      0   24160  211.3375       B5        S                     St Louis, MO  \n",
       "1      2  113781  151.5500  C22 C26        S  Montreal, PQ / Chesterville, ON  \n",
       "2      2  113781  151.5500  C22 C26        S  Montreal, PQ / Chesterville, ON  \n",
       "3      2  113781  151.5500  C22 C26        S  Montreal, PQ / Chesterville, ON  \n",
       "4      2  113781  151.5500  C22 C26        S  Montreal, PQ / Chesterville, ON  "
      ]
     },
     "execution_count": 4,
     "metadata": {},
     "output_type": "execute_result"
    }
   ],
   "source": [
    "df.head()"
   ]
  },
  {
   "cell_type": "markdown",
   "metadata": {},
   "source": [
    "## header\n"
   ]
  },
  {
   "cell_type": "code",
   "execution_count": 5,
   "metadata": {},
   "outputs": [
    {
     "data": {
      "text/plain": [
       "0    29.00\n",
       "1     0.92\n",
       "2     2.00\n",
       "3    30.00\n",
       "4    25.00\n",
       "Name: Age, dtype: float64"
      ]
     },
     "execution_count": 5,
     "metadata": {},
     "output_type": "execute_result"
    }
   ],
   "source": [
    "df.Age[0:5]"
   ]
  },
  {
   "cell_type": "code",
   "execution_count": 6,
   "metadata": {},
   "outputs": [
    {
     "name": "stdout",
     "output_type": "stream",
     "text": [
      "     Age     Sex\n",
      "0  29.00  female\n",
      "1   0.92    male\n",
      "2   2.00  female\n"
     ]
    }
   ],
   "source": [
    "print(df[['Age','Sex']][0:3])"
   ]
  },
  {
   "cell_type": "code",
   "execution_count": 7,
   "metadata": {
    "scrolled": true
   },
   "outputs": [
    {
     "data": {
      "text/plain": [
       "1      0.92\n",
       "2      2.00\n",
       "3     30.00\n",
       "4     25.00\n",
       "5     48.00\n",
       "6     63.00\n",
       "7     39.00\n",
       "8     53.00\n",
       "9     71.00\n",
       "10    47.00\n",
       "Name: Age, dtype: float64"
      ]
     },
     "execution_count": 7,
     "metadata": {},
     "output_type": "execute_result"
    }
   ],
   "source": [
    "df.loc[1:10,'Age']"
   ]
  },
  {
   "cell_type": "code",
   "execution_count": 8,
   "metadata": {},
   "outputs": [
    {
     "name": "stdout",
     "output_type": "stream",
     "text": [
      "     Age     Sex\n",
      "0   29.0  female\n",
      "4   25.0  female\n",
      "6   63.0  female\n",
      "8   53.0  female\n",
      "12  24.0  female\n"
     ]
    }
   ],
   "source": [
    "x = df[['Age','Sex']][(df.Sex == 'female') & (df.Age > 20)][0:5]\n",
    "print(x)"
   ]
  },
  {
   "cell_type": "code",
   "execution_count": 9,
   "metadata": {},
   "outputs": [
    {
     "name": "stdout",
     "output_type": "stream",
     "text": [
      "<class 'pandas.core.frame.DataFrame'>\n",
      "<class 'numpy.ndarray'>\n",
      "age 29, sex female\n",
      "age 25, sex female\n",
      "age 63, sex female\n",
      "age 53, sex female\n",
      "age 24, sex female\n"
     ]
    }
   ],
   "source": [
    "print(type (x))\n",
    "print(type (x.values))\n",
    "for i,j in x.values:\n",
    "    print(\"age %d, sex %s\" % (i,j))"
   ]
  },
  {
   "cell_type": "code",
   "execution_count": 10,
   "metadata": {},
   "outputs": [
    {
     "data": {
      "text/plain": [
       "Sex\n",
       "female    28.687088\n",
       "male      30.585228\n",
       "Name: Age, dtype: float64"
      ]
     },
     "execution_count": 10,
     "metadata": {},
     "output_type": "execute_result"
    }
   ],
   "source": [
    "df.Age.groupby(df.Sex).mean()"
   ]
  },
  {
   "cell_type": "code",
   "execution_count": 11,
   "metadata": {},
   "outputs": [
    {
     "data": {
      "text/plain": [
       "male      843\n",
       "female    466\n",
       "Name: Sex, dtype: int64"
      ]
     },
     "execution_count": 11,
     "metadata": {},
     "output_type": "execute_result"
    }
   ],
   "source": [
    "df.Sex.value_counts()"
   ]
  },
  {
   "cell_type": "markdown",
   "metadata": {},
   "source": [
    "Um einen ersten Eindruck von den vorliegenden Daten zu beokmmen sowie die Möglichkeiten des DataFrame Objektes kennen zu lernen untersuchen Sie bitte die folgenden Fragestellungen: "
   ]
  },
  {
   "cell_type": "markdown",
   "metadata": {},
   "source": [
    "1.) Wie Umfangreich ist der Titanic Datensatz? Wieviel Merkmale (Spalten) bzw. Objekte (Datenreihen) liegen vor?"
   ]
  },
  {
   "cell_type": "code",
   "execution_count": 12,
   "metadata": {
    "scrolled": true
   },
   "outputs": [
    {
     "name": "stdout",
     "output_type": "stream",
     "text": [
      "Anzahl der Reihen: 1309\n",
      "Anzahl der Spalten: 13\n",
      "Anzahl der EInträge: 17017\n"
     ]
    }
   ],
   "source": [
    "# TODO implement\n",
    "print(\"Anzahl der Reihen:\",len(df))\n",
    "print(\"Anzahl der Spalten:\", len(df.columns))\n",
    "print(\"Anzahl der EInträge:\", len(df.columns)*len(df))\n"
   ]
  },
  {
   "cell_type": "markdown",
   "metadata": {},
   "source": [
    "2.) Wie sehen die ersten zehn Objekte aus? Was fällt Ihnen auf? Verstehen Sie die Bedeutung der Merkmale?\n"
   ]
  },
  {
   "cell_type": "code",
   "execution_count": 13,
   "metadata": {},
   "outputs": [
    {
     "data": {
      "text/html": [
       "<div>\n",
       "<style scoped>\n",
       "    .dataframe tbody tr th:only-of-type {\n",
       "        vertical-align: middle;\n",
       "    }\n",
       "\n",
       "    .dataframe tbody tr th {\n",
       "        vertical-align: top;\n",
       "    }\n",
       "\n",
       "    .dataframe thead th {\n",
       "        text-align: right;\n",
       "    }\n",
       "</style>\n",
       "<table border=\"1\" class=\"dataframe\">\n",
       "  <thead>\n",
       "    <tr style=\"text-align: right;\">\n",
       "      <th></th>\n",
       "      <th>PassengerId</th>\n",
       "      <th>Survived</th>\n",
       "      <th>Pclass</th>\n",
       "      <th>Name</th>\n",
       "      <th>Sex</th>\n",
       "      <th>Age</th>\n",
       "      <th>SibSp</th>\n",
       "      <th>Parch</th>\n",
       "      <th>Ticket</th>\n",
       "      <th>Fare</th>\n",
       "      <th>Cabin</th>\n",
       "      <th>Embarked</th>\n",
       "      <th>Home-Dest</th>\n",
       "    </tr>\n",
       "  </thead>\n",
       "  <tbody>\n",
       "    <tr>\n",
       "      <th>0</th>\n",
       "      <td>1</td>\n",
       "      <td>1</td>\n",
       "      <td>1</td>\n",
       "      <td>Allen, Miss. Elisabeth Walton</td>\n",
       "      <td>female</td>\n",
       "      <td>29.00</td>\n",
       "      <td>0</td>\n",
       "      <td>0</td>\n",
       "      <td>24160</td>\n",
       "      <td>211.3375</td>\n",
       "      <td>B5</td>\n",
       "      <td>S</td>\n",
       "      <td>St Louis, MO</td>\n",
       "    </tr>\n",
       "    <tr>\n",
       "      <th>1</th>\n",
       "      <td>2</td>\n",
       "      <td>1</td>\n",
       "      <td>1</td>\n",
       "      <td>Allison, Master. Hudson Trevor</td>\n",
       "      <td>male</td>\n",
       "      <td>0.92</td>\n",
       "      <td>1</td>\n",
       "      <td>2</td>\n",
       "      <td>113781</td>\n",
       "      <td>151.5500</td>\n",
       "      <td>C22 C26</td>\n",
       "      <td>S</td>\n",
       "      <td>Montreal, PQ / Chesterville, ON</td>\n",
       "    </tr>\n",
       "    <tr>\n",
       "      <th>2</th>\n",
       "      <td>3</td>\n",
       "      <td>0</td>\n",
       "      <td>1</td>\n",
       "      <td>Allison, Miss. Helen Loraine</td>\n",
       "      <td>female</td>\n",
       "      <td>2.00</td>\n",
       "      <td>1</td>\n",
       "      <td>2</td>\n",
       "      <td>113781</td>\n",
       "      <td>151.5500</td>\n",
       "      <td>C22 C26</td>\n",
       "      <td>S</td>\n",
       "      <td>Montreal, PQ / Chesterville, ON</td>\n",
       "    </tr>\n",
       "    <tr>\n",
       "      <th>3</th>\n",
       "      <td>4</td>\n",
       "      <td>0</td>\n",
       "      <td>1</td>\n",
       "      <td>Allison, Mr. Hudson Joshua Creighton</td>\n",
       "      <td>male</td>\n",
       "      <td>30.00</td>\n",
       "      <td>1</td>\n",
       "      <td>2</td>\n",
       "      <td>113781</td>\n",
       "      <td>151.5500</td>\n",
       "      <td>C22 C26</td>\n",
       "      <td>S</td>\n",
       "      <td>Montreal, PQ / Chesterville, ON</td>\n",
       "    </tr>\n",
       "    <tr>\n",
       "      <th>4</th>\n",
       "      <td>5</td>\n",
       "      <td>0</td>\n",
       "      <td>1</td>\n",
       "      <td>Allison, Mrs. Hudson J C (Bessie Waldo Daniels)</td>\n",
       "      <td>female</td>\n",
       "      <td>25.00</td>\n",
       "      <td>1</td>\n",
       "      <td>2</td>\n",
       "      <td>113781</td>\n",
       "      <td>151.5500</td>\n",
       "      <td>C22 C26</td>\n",
       "      <td>S</td>\n",
       "      <td>Montreal, PQ / Chesterville, ON</td>\n",
       "    </tr>\n",
       "    <tr>\n",
       "      <th>5</th>\n",
       "      <td>6</td>\n",
       "      <td>1</td>\n",
       "      <td>1</td>\n",
       "      <td>Anderson, Mr. Harry</td>\n",
       "      <td>male</td>\n",
       "      <td>48.00</td>\n",
       "      <td>0</td>\n",
       "      <td>0</td>\n",
       "      <td>19952</td>\n",
       "      <td>26.5500</td>\n",
       "      <td>E12</td>\n",
       "      <td>S</td>\n",
       "      <td>New York, NY</td>\n",
       "    </tr>\n",
       "    <tr>\n",
       "      <th>6</th>\n",
       "      <td>7</td>\n",
       "      <td>1</td>\n",
       "      <td>1</td>\n",
       "      <td>Andrews, Miss. Kornelia Theodosia</td>\n",
       "      <td>female</td>\n",
       "      <td>63.00</td>\n",
       "      <td>1</td>\n",
       "      <td>0</td>\n",
       "      <td>13502</td>\n",
       "      <td>77.9583</td>\n",
       "      <td>D7</td>\n",
       "      <td>S</td>\n",
       "      <td>Hudson, NY</td>\n",
       "    </tr>\n",
       "    <tr>\n",
       "      <th>7</th>\n",
       "      <td>8</td>\n",
       "      <td>0</td>\n",
       "      <td>1</td>\n",
       "      <td>Andrews, Mr. Thomas Jr</td>\n",
       "      <td>male</td>\n",
       "      <td>39.00</td>\n",
       "      <td>0</td>\n",
       "      <td>0</td>\n",
       "      <td>112050</td>\n",
       "      <td>0.0000</td>\n",
       "      <td>A36</td>\n",
       "      <td>S</td>\n",
       "      <td>Belfast, NI</td>\n",
       "    </tr>\n",
       "    <tr>\n",
       "      <th>8</th>\n",
       "      <td>9</td>\n",
       "      <td>1</td>\n",
       "      <td>1</td>\n",
       "      <td>Appleton, Mrs. Edward Dale (Charlotte Lamson)</td>\n",
       "      <td>female</td>\n",
       "      <td>53.00</td>\n",
       "      <td>2</td>\n",
       "      <td>0</td>\n",
       "      <td>11769</td>\n",
       "      <td>51.4792</td>\n",
       "      <td>C101</td>\n",
       "      <td>S</td>\n",
       "      <td>Bayside, Queens, NY</td>\n",
       "    </tr>\n",
       "    <tr>\n",
       "      <th>9</th>\n",
       "      <td>10</td>\n",
       "      <td>0</td>\n",
       "      <td>1</td>\n",
       "      <td>Artagaveytia, Mr. Ramon</td>\n",
       "      <td>male</td>\n",
       "      <td>71.00</td>\n",
       "      <td>0</td>\n",
       "      <td>0</td>\n",
       "      <td>PC 17609</td>\n",
       "      <td>49.5042</td>\n",
       "      <td>NaN</td>\n",
       "      <td>C</td>\n",
       "      <td>Montevideo, Uruguay</td>\n",
       "    </tr>\n",
       "  </tbody>\n",
       "</table>\n",
       "</div>"
      ],
      "text/plain": [
       "   PassengerId  Survived  Pclass  \\\n",
       "0            1         1       1   \n",
       "1            2         1       1   \n",
       "2            3         0       1   \n",
       "3            4         0       1   \n",
       "4            5         0       1   \n",
       "5            6         1       1   \n",
       "6            7         1       1   \n",
       "7            8         0       1   \n",
       "8            9         1       1   \n",
       "9           10         0       1   \n",
       "\n",
       "                                              Name     Sex    Age  SibSp  \\\n",
       "0                    Allen, Miss. Elisabeth Walton  female  29.00      0   \n",
       "1                   Allison, Master. Hudson Trevor    male   0.92      1   \n",
       "2                     Allison, Miss. Helen Loraine  female   2.00      1   \n",
       "3             Allison, Mr. Hudson Joshua Creighton    male  30.00      1   \n",
       "4  Allison, Mrs. Hudson J C (Bessie Waldo Daniels)  female  25.00      1   \n",
       "5                              Anderson, Mr. Harry    male  48.00      0   \n",
       "6                Andrews, Miss. Kornelia Theodosia  female  63.00      1   \n",
       "7                           Andrews, Mr. Thomas Jr    male  39.00      0   \n",
       "8    Appleton, Mrs. Edward Dale (Charlotte Lamson)  female  53.00      2   \n",
       "9                          Artagaveytia, Mr. Ramon    male  71.00      0   \n",
       "\n",
       "   Parch    Ticket      Fare    Cabin Embarked  \\\n",
       "0      0     24160  211.3375       B5        S   \n",
       "1      2    113781  151.5500  C22 C26        S   \n",
       "2      2    113781  151.5500  C22 C26        S   \n",
       "3      2    113781  151.5500  C22 C26        S   \n",
       "4      2    113781  151.5500  C22 C26        S   \n",
       "5      0     19952   26.5500      E12        S   \n",
       "6      0     13502   77.9583       D7        S   \n",
       "7      0    112050    0.0000      A36        S   \n",
       "8      0     11769   51.4792     C101        S   \n",
       "9      0  PC 17609   49.5042      NaN        C   \n",
       "\n",
       "                         Home-Dest  \n",
       "0                     St Louis, MO  \n",
       "1  Montreal, PQ / Chesterville, ON  \n",
       "2  Montreal, PQ / Chesterville, ON  \n",
       "3  Montreal, PQ / Chesterville, ON  \n",
       "4  Montreal, PQ / Chesterville, ON  \n",
       "5                     New York, NY  \n",
       "6                       Hudson, NY  \n",
       "7                      Belfast, NI  \n",
       "8              Bayside, Queens, NY  \n",
       "9              Montevideo, Uruguay  "
      ]
     },
     "execution_count": 13,
     "metadata": {},
     "output_type": "execute_result"
    }
   ],
   "source": [
    "# TODO implement\n",
    "#print(df[0:10])\n",
    "df.head(10)\n"
   ]
  },
  {
   "cell_type": "code",
   "execution_count": 14,
   "metadata": {},
   "outputs": [],
   "source": [
    "#Manche werte sind NaN, Buchstaben in der Ticket number, "
   ]
  },
  {
   "cell_type": "markdown",
   "metadata": {},
   "source": [
    "3.) Welche Datentypen haben die einzelnen Merkmale?"
   ]
  },
  {
   "cell_type": "code",
   "execution_count": 15,
   "metadata": {},
   "outputs": [
    {
     "name": "stdout",
     "output_type": "stream",
     "text": [
      "<class 'pandas.core.frame.DataFrame'>\n",
      "RangeIndex: 1309 entries, 0 to 1308\n",
      "Data columns (total 13 columns):\n",
      " #   Column       Non-Null Count  Dtype  \n",
      "---  ------       --------------  -----  \n",
      " 0   PassengerId  1309 non-null   int64  \n",
      " 1   Survived     1309 non-null   int64  \n",
      " 2   Pclass       1309 non-null   int64  \n",
      " 3   Name         1309 non-null   object \n",
      " 4   Sex          1309 non-null   object \n",
      " 5   Age          1046 non-null   float64\n",
      " 6   SibSp        1309 non-null   int64  \n",
      " 7   Parch        1309 non-null   int64  \n",
      " 8   Ticket       1309 non-null   object \n",
      " 9   Fare         1308 non-null   float64\n",
      " 10  Cabin        295 non-null    object \n",
      " 11  Embarked     1307 non-null   object \n",
      " 12  Home-Dest    745 non-null    object \n",
      "dtypes: float64(2), int64(5), object(6)\n",
      "memory usage: 133.1+ KB\n",
      "None\n"
     ]
    }
   ],
   "source": [
    "# TODO implement\n",
    "print(df.info())"
   ]
  },
  {
   "cell_type": "markdown",
   "metadata": {},
   "source": [
    "4.) Welche Merkmale sind quantitativ, welche sind qualitativ?\n",
    "\n",
    "<b>Quantitative Merkmale</b>:  intervallskalierte metrische Werte, z.B. Körpergewicht, Einkommen. \n",
    "Für diese Merkmale können verschiedene mathematische Rechenoperationen durchgeführt werden, wie zum Beispiel die Errechnung eines Durchschnitts <br>\n",
    "\n",
    "<b>Qualitative Merkmale</b>:  Merkmale lassen sich eindeutig in Kategorien unterscheiden, diese Unterteilung besitzt jedoch keinen mathematischen Wert, z.B. Geschlecht, Religionszugehörigkeit. Für diese Merkmale kann lediglich ein Befragungsergebnis in Anteilen (x von 100%) wiedergegeben werden <br>\n",
    "\n",
    "<b>Beispiel aus dem Skript</b>:\n",
    "\n",
    "| Merkmal    | Wert                  | Typ |\n",
    "|:-----------|:----------------------|-------|\n",
    "| goldEarned | 15 Stk.               | Quantitativ |\n",
    "| kills      | 11 Stk.               | Quantitativ |\n",
    "| championId | 4312234               | Qualitativ |\n",
    "| lane       | {bootom, middle, top} | Qualitativ |\n",
    "| role       | {duo, solo, support}  | Qualitativ |"
   ]
  },
  {
   "cell_type": "markdown",
   "metadata": {},
   "source": [
    "| PassengerId |\tSurvived | Pclass | Name | Sex | Age | SibSp |Parch | Ticket | Fare | Cabin | Embarked | Home-Dest |\n",
    "|  --- | --- | --- | --- | --- | --- | --- | --- | --- | --- | --- | --- |--- |\n",
    "| Qualitativ | Qualitativ | Qualitativ | Qualitativ | Qualitativ | Quantitativ | Quantitativ | Quantitativ | Qualitativ | Quantitativ | Qualitativ| Qualitativ | Qualitativ |"
   ]
  },
  {
   "cell_type": "markdown",
   "metadata": {},
   "source": [
    "5.) Wieviel Prozent der Passagiere haben das Unglück überlebt?"
   ]
  },
  {
   "cell_type": "code",
   "execution_count": 16,
   "metadata": {},
   "outputs": [
    {
     "name": "stdout",
     "output_type": "stream",
     "text": [
      "Survived Perventage 38.19709702062643 %\n"
     ]
    }
   ],
   "source": [
    "# TODO implement\n",
    "from functools import reduce\n",
    "\n",
    "survived = reduce((lambda x, y: x + y), df.Survived)\n",
    "#print(df.Survived.value_counts())\n",
    "\n",
    "print(\"Survived Perventage\", survived / len(df) *100, \"%\")"
   ]
  },
  {
   "cell_type": "markdown",
   "metadata": {},
   "source": [
    "6.) Wieviel Prozent der Überlebenden waren Frauen?"
   ]
  },
  {
   "cell_type": "code",
   "execution_count": 17,
   "metadata": {},
   "outputs": [
    {
     "name": "stdout",
     "output_type": "stream",
     "text": [
      "Sex\n",
      "female    0.678\n",
      "male      0.322\n",
      "Name: Survived, dtype: float64\n"
     ]
    }
   ],
   "source": [
    "# TODO implement\n",
    "df.Age.groupby(df.Sex).value_counts()\n",
    "#df.groupby(['Sex','Survived']).value_counts()\n",
    "Average = df.Survived[(df.Survived == 1)].groupby(df.Sex).apply(lambda x: x.count()/df.Survived[(df.Survived == 1)].count())\n",
    "print(Average)"
   ]
  },
  {
   "cell_type": "markdown",
   "metadata": {},
   "source": [
    "7.) Ermitteln Sie jeweils den Mittelwert des Alters für die folgenden Gruppen:"
   ]
  },
  {
   "cell_type": "markdown",
   "metadata": {},
   "source": [
    "7.a) für alle Passagiere"
   ]
  },
  {
   "cell_type": "code",
   "execution_count": 18,
   "metadata": {},
   "outputs": [
    {
     "data": {
      "text/plain": [
       "29.881137667304014"
      ]
     },
     "execution_count": 18,
     "metadata": {},
     "output_type": "execute_result"
    }
   ],
   "source": [
    "# TODO implement\n",
    "df.mean().Age"
   ]
  },
  {
   "cell_type": "markdown",
   "metadata": {},
   "source": [
    "7.b) getrennt nach Geschlecht"
   ]
  },
  {
   "cell_type": "code",
   "execution_count": 19,
   "metadata": {},
   "outputs": [
    {
     "data": {
      "text/plain": [
       "Sex\n",
       "female    28.687088\n",
       "male      30.585228\n",
       "Name: Age, dtype: float64"
      ]
     },
     "execution_count": 19,
     "metadata": {},
     "output_type": "execute_result"
    }
   ],
   "source": [
    "# TODO implement\n",
    "df.groupby(df.Sex).mean().Age"
   ]
  },
  {
   "cell_type": "markdown",
   "metadata": {},
   "source": [
    "7.c) für alle Überlebenden"
   ]
  },
  {
   "cell_type": "code",
   "execution_count": 20,
   "metadata": {},
   "outputs": [
    {
     "name": "stdout",
     "output_type": "stream",
     "text": [
      "Survived\n",
      "0    30.545363\n",
      "1    28.918244\n",
      "Name: Age, dtype: float64\n",
      "28.91824355971897\n"
     ]
    }
   ],
   "source": [
    "# TODO implement\n",
    "print(df.groupby(df.Survived).mean().Age)\n",
    "print(df.Age[(df.Survived == 1)].mean())\n"
   ]
  },
  {
   "cell_type": "markdown",
   "metadata": {},
   "source": [
    "7.d) für alle Frauen welche überlebt haben"
   ]
  },
  {
   "cell_type": "code",
   "execution_count": 21,
   "metadata": {},
   "outputs": [
    {
     "data": {
      "text/plain": [
       "29.815376712328767"
      ]
     },
     "execution_count": 21,
     "metadata": {},
     "output_type": "execute_result"
    }
   ],
   "source": [
    "# TODO implement\n",
    "df.Age[(df.Survived == 1) & (df.Sex == 'female')].mean()\n"
   ]
  },
  {
   "cell_type": "markdown",
   "metadata": {},
   "source": [
    "7.e) für alle Frauen welche überlebt haben, gruppiert nach der Passagier Klasse (Pclass)"
   ]
  },
  {
   "cell_type": "code",
   "execution_count": 22,
   "metadata": {},
   "outputs": [
    {
     "data": {
      "text/plain": [
       "Pclass\n",
       "1    37.109375\n",
       "2    26.711087\n",
       "3    20.814861\n",
       "Name: Age, dtype: float64"
      ]
     },
     "execution_count": 22,
     "metadata": {},
     "output_type": "execute_result"
    }
   ],
   "source": [
    "# TODO implement\n",
    "df.Age[(df.Survived == 1) & (df.Sex == 'female')].groupby(df.Pclass).mean()"
   ]
  },
  {
   "cell_type": "markdown",
   "metadata": {},
   "source": [
    "7.f) für alle Frauen welche nicht überlebt haben, gruppiert nach der Passagier Klasse (Pclass)"
   ]
  },
  {
   "cell_type": "code",
   "execution_count": 23,
   "metadata": {},
   "outputs": [
    {
     "data": {
      "text/plain": [
       "Pclass\n",
       "1    35.200000\n",
       "2    34.090909\n",
       "3    23.418750\n",
       "Name: Age, dtype: float64"
      ]
     },
     "execution_count": 23,
     "metadata": {},
     "output_type": "execute_result"
    }
   ],
   "source": [
    "# TODO implement\n",
    "df.Age[(df.Survived == 0) & (df.Sex == 'female')].groupby(df.Pclass).mean()"
   ]
  },
  {
   "cell_type": "markdown",
   "metadata": {},
   "source": [
    "## 2.) Vorverarbeitung - Imputation (Statistik) - Datenlücken interpolieren\n",
    "Wie Sie vielleicht schon bei der ersten Aufgabe bemerkt haben, fehlen einzelne Merkmalsausprägungen im vorliegenden Datensatz (NaN-Werte). Dies ist in sofern problematisch da je nach Verfahren, unter Umständen die ganze Datenreihe nicht mehr weiter verarbeitet werden kann. Im vorliegenden Datensatz fehlen Werte in den Merkmalen 'Age' sowie 'Cabin' (siehe df.info()). Da beim Merkmal Cabin nur 204 Einträge vorliegen ist es hier sehr schwer die fehlenden Ausprägungen zu interpolieren. Wir konzentrieren uns daher vorerst auf das Alter, da hier eine größere Datenmenge vorliegt.\n",
    "\n",
    "Vervollständigen sie die Datenlücken in der Spalte 'Age'. Nutzen Sie dabei Wissen aus den vorliegenden Daten um die einzelnen Datenreihen zuverlässig zu vervollständigen. Es bietet sich an diesen Schritt in eine Funktion auszulagern. Überprüfen Sie Ihr Ergebniss."
   ]
  },
  {
   "cell_type": "code",
   "execution_count": 24,
   "metadata": {},
   "outputs": [
    {
     "name": "stdout",
     "output_type": "stream",
     "text": [
      "29.881137667304014\n",
      "False    1046\n",
      "True      263\n",
      "Name: Age, dtype: int64\n",
      "False    1309\n",
      "Name: Age, dtype: int64\n",
      "29.409511482735283\n"
     ]
    }
   ],
   "source": [
    "def prepareData(df):\n",
    "    #to set a selection of a data frame please dont use the chained [] operator, but the .loc operator\n",
    "    #(see http://pandas.pydata.org/pandas-docs/stable/indexing.html#indexing-view-versus-copy for details)\n",
    "\n",
    "    #minimal working example to set all null age values to 42 - probably you can do better :-)\n",
    "\n",
    "    df.loc[(((df.Sex == \"male\")   &(df.Survived == 0)) & (df.Pclass==1)) & df.Age.isnull(),\"Age\"] =  df.loc[((df.Sex == \"male\")   &(df.Survived == 0)) & (df.Pclass==1), \"Age\"].mean()\n",
    "    df.loc[(((df.Sex == \"male\")   &(df.Survived == 0)) & (df.Pclass==2)) & df.Age.isnull(),\"Age\"] =  df.loc[((df.Sex == \"male\")   &(df.Survived == 0)) & (df.Pclass==2), \"Age\"].mean()\n",
    "    df.loc[(((df.Sex == \"male\")   &(df.Survived == 0)) & (df.Pclass==3)) & df.Age.isnull(),\"Age\"] =  df.loc[((df.Sex == \"male\")   &(df.Survived == 0)) & (df.Pclass==3), \"Age\"].mean()\n",
    "    \n",
    "    df.loc[(((df.Sex == \"male\")   &(df.Survived == 1)) & (df.Pclass==1)) & df.Age.isnull(),\"Age\"] =  df.loc[((df.Sex == \"male\")   &(df.Survived == 1)) & (df.Pclass==1), \"Age\"].mean()\n",
    "    df.loc[(((df.Sex == \"male\")   &(df.Survived == 1)) & (df.Pclass==2)) & df.Age.isnull(),\"Age\"] =  df.loc[((df.Sex == \"male\")   &(df.Survived == 1)) & (df.Pclass==2), \"Age\"].mean()\n",
    "    df.loc[(((df.Sex == \"male\")   &(df.Survived == 1)) & (df.Pclass==3)) & df.Age.isnull(),\"Age\"] =  df.loc[((df.Sex == \"male\")   &(df.Survived == 1)) & (df.Pclass==3), \"Age\"].mean()\n",
    "    \n",
    "    \n",
    "    df.loc[(((df.Sex == \"female\") &(df.Survived == 0)) & (df.Pclass==1)) & df.Age.isnull(),\"Age\"] =  df.loc[((df.Sex == \"female\") &(df.Survived == 0)) & (df.Pclass==1), \"Age\"].mean()\n",
    "    df.loc[(((df.Sex == \"female\") &(df.Survived == 0)) & (df.Pclass==2)) & df.Age.isnull(),\"Age\"] =  df.loc[((df.Sex == \"female\") &(df.Survived == 0)) & (df.Pclass==2), \"Age\"].mean()\n",
    "    df.loc[(((df.Sex == \"female\") &(df.Survived == 0)) & (df.Pclass==3)) & df.Age.isnull(),\"Age\"] =  df.loc[((df.Sex == \"female\") &(df.Survived == 0)) & (df.Pclass==3), \"Age\"].mean()\n",
    "    \n",
    "    df.loc[(((df.Sex == \"female\") &(df.Survived == 1)) & (df.Pclass==1)) & df.Age.isnull(),\"Age\"] =  df.loc[((df.Sex == \"female\") &(df.Survived == 1)) & (df.Pclass==1), \"Age\"].mean()\n",
    "    df.loc[(((df.Sex == \"female\") &(df.Survived == 1)) & (df.Pclass==2)) & df.Age.isnull(),\"Age\"] =  df.loc[((df.Sex == \"female\") &(df.Survived == 1)) & (df.Pclass==2), \"Age\"].mean()\n",
    "    df.loc[(((df.Sex == \"female\") &(df.Survived == 1)) & (df.Pclass==3)) & df.Age.isnull(),\"Age\"] =  df.loc[((df.Sex == \"female\") &(df.Survived == 1)) & (df.Pclass==3), \"Age\"].mean()\n",
    "    \n",
    "    return df\n",
    "\n",
    "print(df.Age.mean())\n",
    "print(df.Age.isnull().value_counts())\n",
    "      \n",
    "df = prepareData(df)\n",
    "      \n",
    "print(df.Age.isnull().value_counts())\n",
    "print(df.Age.mean())\n",
    "\n"
   ]
  },
  {
   "cell_type": "markdown",
   "metadata": {},
   "source": [
    "## 3.) Visualisierung"
   ]
  },
  {
   "cell_type": "markdown",
   "metadata": {},
   "source": [
    "Um Zusammenhänge in Daten verstehen zu können, ist es essentiell die Daten zu visualisieren. Nutzen sie für die folgende Aufgabe die python Bibliothek matplotlib (siehe http://matplotlib.org/users/pyplot_tutorial.html). Da uns unsere Daten als padas DataFrame vorliegen, ist es für die einfacheren plots komfortabler die von pandas zur Verfügung gestellten wrapper methoden zu nutzen (siehe http://pandas.pydata.org/pandas-docs/stable/visualization.html).\n",
    "\n",
    "\n",
    "1.) Visualisieren Sie die absolute Verteilung der Überlebenden anhand eines Barplots. (Tipp: plt.hist(..) oder df.Survived.hist())"
   ]
  },
  {
   "cell_type": "code",
   "execution_count": 25,
   "metadata": {},
   "outputs": [
    {
     "data": {
      "text/plain": [
       "<matplotlib.axes._subplots.AxesSubplot at 0x7fa780075790>"
      ]
     },
     "execution_count": 25,
     "metadata": {},
     "output_type": "execute_result"
    },
    {
     "data": {
      "image/png": "[encoded data removed]",
      "text/plain": [
       "<Figure size 720x360 with 2 Axes>"
      ]
     },
     "metadata": {
      "needs_background": "light"
     },
     "output_type": "display_data"
    }
   ],
   "source": [
    "fig, axes = plt.subplots(nrows=1, ncols=2, figsize=(10, 5))\n",
    "axes[0].hist(df.Survived, bins = [0,1,2])\n",
    "axes[0].set_xlabel('Dead')\n",
    "axes[0].set_ylabel('Number')\n",
    "df.groupby(df.Survived).size().plot.bar()"
   ]
  },
  {
   "cell_type": "markdown",
   "metadata": {},
   "source": [
    "2.) Visualisieren Sie die Anzahl der Passagiere in der jeweiligen Klasse (Pclass)"
   ]
  },
  {
   "cell_type": "code",
   "execution_count": 26,
   "metadata": {},
   "outputs": [
    {
     "data": {
      "text/plain": [
       "<matplotlib.axes._subplots.AxesSubplot at 0x7fa7b0a69990>"
      ]
     },
     "execution_count": 26,
     "metadata": {},
     "output_type": "execute_result"
    },
    {
     "data": {
      "image/png": "[encoded data removed]",
      "text/plain": [
       "<Figure size 720x360 with 2 Axes>"
      ]
     },
     "metadata": {
      "needs_background": "light"
     },
     "output_type": "display_data"
    }
   ],
   "source": [
    "# TODO implement\n",
    "fig, axes = plt.subplots(nrows=1, ncols=2, figsize=(10, 5))\n",
    "axes[0].hist(df.Pclass, bins = 3)\n",
    "axes[0].set_xlabel('Pclass')\n",
    "axes[0].set_ylabel('Number')\n",
    "df.groupby(df.Pclass).size().plot.bar()"
   ]
  },
  {
   "cell_type": "markdown",
   "metadata": {},
   "source": [
    "3.) Visualisieren Sie die Verteilung des Alters pro Geschlecht als Histogramm. "
   ]
  },
  {
   "cell_type": "code",
   "execution_count": 36,
   "metadata": {},
   "outputs": [
    {
     "data": {
      "text/plain": [
       "<matplotlib.legend.Legend at 0x7fa790c84310>"
      ]
     },
     "execution_count": 36,
     "metadata": {},
     "output_type": "execute_result"
    },
    {
     "data": {
      "image/png": "[encoded data removed]",
      "text/plain": [
       "<Figure size 792x360 with 2 Axes>"
      ]
     },
     "metadata": {
      "needs_background": "light"
     },
     "output_type": "display_data"
    }
   ],
   "source": [
    "# TODO implement\n",
    "\n",
    "woman_Age = df[df.Sex == 'female'][\"Age\"]\n",
    "man_Age = df[df.Sex == 'male'][\"Age\"]\n",
    "\n",
    "fig, axes = plt.subplots(nrows=1, ncols=2, figsize=(11, 5))\n",
    "axes[0].hist([woman_Age, man_Age], stacked=False,\n",
    "         bins = 80,label = ['Woman','Men'])\n",
    "axes[0].set_xlabel('Age')\n",
    "axes[0].set_ylabel('Number of passengers')\n",
    "axes[0].legend()\n",
    "axes[1].hist([woman_Age, man_Age], stacked=True,\n",
    "         bins = 80,label = ['Woman','Men'])\n",
    "axes[1].set_xlabel('Age')\n",
    "axes[1].set_ylabel('Number of passengers')\n",
    "axes[1].legend()"
   ]
  },
  {
   "cell_type": "markdown",
   "metadata": {},
   "source": [
    "4.) Visualisiern Sie die Verteilung des Alters pro Klasse als Wahrscheinlichkeitsdichte. Stellen Sie die Graphen gemeinsam in einem Plot dar (Tipp: plot(kind='density'), möglicherweise müssen sie hier das Python-Paket *scipy* nachinstallieren)."
   ]
  },
  {
   "cell_type": "code",
   "execution_count": 28,
   "metadata": {
    "scrolled": true
   },
   "outputs": [
    {
     "data": {
      "text/plain": [
       "<matplotlib.legend.Legend at 0x7fa760b4d550>"
      ]
     },
     "execution_count": 28,
     "metadata": {},
     "output_type": "execute_result"
    },
    {
     "data": {
      "image/png": "[encoded data removed]",
      "text/plain": [
       "<Figure size 1440x432 with 1 Axes>"
      ]
     },
     "metadata": {
      "needs_background": "light"
     },
     "output_type": "display_data"
    }
   ],
   "source": [
    "# TODO implement\n",
    "\n",
    "c1 = df[df.Pclass == 1][\"Age\"]\n",
    "c2 = df[df.Pclass == 2][\"Age\"]\n",
    "c3 = df[df.Pclass == 3][\"Age\"]\n",
    "\n",
    "#c1 = df[df.Pclass == 1].groupby(df.Age).size()\n",
    "#c2 = df[df.Pclass == 2].groupby(df.Age).size()\n",
    "#c3 = df[df.Pclass == 3].groupby(df.Age).size()\n",
    "\n",
    "c1.plot(kind = \"density\", figsize = (20,6) ,color = 'blue', subplots=True ,label=\"c1\" )\n",
    "c2.plot(kind = \"density\", figsize = (20,6) ,color = 'red', subplots=True ,label=\"c2\" )\n",
    "c3.plot(kind = \"density\", figsize = (20,6) ,color = 'green', subplots=True ,label=\"c3\" )\n",
    "plt.xlabel(\"Age\")\n",
    "plt.legend()"
   ]
  },
  {
   "cell_type": "markdown",
   "metadata": {},
   "source": [
    " 5) Visualisieren Sie den Zusammenhang zwischen dem Alter und dem Ticketpreis in einem scatter plot. Interpretieren Sie das Resultat."
   ]
  },
  {
   "cell_type": "code",
   "execution_count": 29,
   "metadata": {},
   "outputs": [
    {
     "data": {
      "text/plain": [
       "<matplotlib.axes._subplots.AxesSubplot at 0x7fa79093bd10>"
      ]
     },
     "execution_count": 29,
     "metadata": {},
     "output_type": "execute_result"
    },
    {
     "data": {
      "image/png": "[encoded data removed]",
      "text/plain": [
       "<Figure size 432x288 with 1 Axes>"
      ]
     },
     "metadata": {
      "needs_background": "light"
     },
     "output_type": "display_data"
    }
   ],
   "source": [
    "# TODO implement\n",
    "df1 = df[['Age','Fare']]\n",
    "df1.plot.scatter(x = \"Age\", y = \"Fare\", marker = \",\",s= 1)\n",
    "#Preis nicht alter Abhängig\n",
    "#Einige Daten sind 0 -> Mitarbeiter?\n",
    "#Einige wenige passagiere Zahlen serh viel"
   ]
  },
  {
   "cell_type": "code",
   "execution_count": 30,
   "metadata": {},
   "outputs": [
    {
     "data": {
      "text/plain": [
       "<matplotlib.axes._subplots.AxesSubplot at 0x7fa74003c0d0>"
      ]
     },
     "execution_count": 30,
     "metadata": {},
     "output_type": "execute_result"
    },
    {
     "data": {
      "image/png": "[encoded data removed]",
      "text/plain": [
       "<Figure size 432x288 with 1 Axes>"
      ]
     },
     "metadata": {
      "needs_background": "light"
     },
     "output_type": "display_data"
    }
   ],
   "source": [
    "df1 = df[['Pclass','Fare']]\n",
    "df1.plot.scatter(x = \"Pclass\", y = \"Fare\")\n",
    "#Erste Klasse ist deutlich teurer"
   ]
  },
  {
   "cell_type": "markdown",
   "metadata": {},
   "source": [
    "In den bisherigen Plots haben wir einzelne Merkmale unabhängig der Klassenzugehörigkeiten 'Surived' dargestellt. Um die vorliegenden Daten besser zu verstehen und trennungswirksame Merkmale zu identifizieren soll nun untersucht werden wie sich die einzelnen Merkmale in Bezug auf die später vorherzusagende Klasse verhalten.\n",
    "\n",
    "6) Untersuchen Sie die Korrelation zwischen dem Geschlecht und den Überleben der Katastrophe. Erstellen Sie eine oder mehrere geeignete Visualisierung(en) und interpretieren Sie diese.\n"
   ]
  },
  {
   "cell_type": "code",
   "execution_count": 31,
   "metadata": {},
   "outputs": [
    {
     "data": {
      "text/plain": [
       "Text(0, 0.5, 'Nummer Übelebender')"
      ]
     },
     "execution_count": 31,
     "metadata": {},
     "output_type": "execute_result"
    },
    {
     "data": {
      "image/png": "[encoded data removed]",
      "text/plain": [
       "<Figure size 648x432 with 1 Axes>"
      ]
     },
     "metadata": {
      "needs_background": "light"
     },
     "output_type": "display_data"
    }
   ],
   "source": [
    "# TODO implement\n",
    "survived_sex = df[df['Survived']==1]['Sex'].value_counts()\n",
    "dead_sex = df[df['Survived']==0]['Sex'].value_counts()\n",
    "p = pd.DataFrame([survived_sex,dead_sex])\n",
    "p.index = ['Survived','Dead']\n",
    "p.plot(kind='bar',stacked=False, figsize=(9,6))\n",
    "plt.ylabel(\"Nummer Übelebender\")\n",
    "#Mehr Frauen als Männer Überlebt\n",
    "#Mehr Männer als Frauen gestorben\n",
    "#Mehr Männer an Board"
   ]
  },
  {
   "cell_type": "markdown",
   "metadata": {},
   "source": [
    "7) Untersuchen Sie die Korrelation zwischen dem Alter und den Überleben der Katastrophe. Erstellen Sie eine geeignete Visualisierung und interpretieren Sie diese."
   ]
  },
  {
   "cell_type": "code",
   "execution_count": 32,
   "metadata": {},
   "outputs": [
    {
     "data": {
      "image/png": "[encoded data removed]",
      "text/plain": [
       "<Figure size 720x360 with 2 Axes>"
      ]
     },
     "metadata": {
      "needs_background": "light"
     },
     "output_type": "display_data"
    }
   ],
   "source": [
    "# TODO implement\n",
    "survived = [df[df['Survived']==1]['Age']]\n",
    "dead =[df[df['Survived']==0]['Age']]\n",
    "\n",
    "fig, axes = plt.subplots(nrows=1, ncols=2, figsize=(10, 5), sharey='row')\n",
    "axes[0].hist(survived, bins=60)\n",
    "axes[1].hist(dead, bins=60)\n",
    "axes[0].set_title('Survived')\n",
    "axes[1].set_title('Dead')\n",
    "\n",
    "axes[0].set_xlabel('Age')\n",
    "axes[0].set_ylabel('Number')\n",
    "axes[1].set_xlabel('Age')\n",
    "axes[1].set_ylabel('Number')\n",
    "fig.tight_layout()\n",
    "#Meisete Leute im Alter von 20-40 Gestorben\n",
    "#Sehr junge Personen haben überlebt"
   ]
  },
  {
   "cell_type": "code",
   "execution_count": 33,
   "metadata": {},
   "outputs": [
    {
     "data": {
      "text/plain": [
       "<matplotlib.legend.Legend at 0x7fa790cc05d0>"
      ]
     },
     "execution_count": 33,
     "metadata": {},
     "output_type": "execute_result"
    },
    {
     "data": {
      "image/png": "[encoded data removed]",
      "text/plain": [
       "<Figure size 648x432 with 1 Axes>"
      ]
     },
     "metadata": {
      "needs_background": "light"
     },
     "output_type": "display_data"
    }
   ],
   "source": [
    "figure = plt.figure(figsize=(9,6))\n",
    "plt.hist([df[df['Survived']==1]['Age'],df[df['Survived']==0]['Age']], stacked=False,\n",
    "         bins = 60,label = ['Survived','Dead'])\n",
    "plt.xlabel('Age')\n",
    "plt.ylabel('Number')\n",
    "plt.legend()"
   ]
  },
  {
   "cell_type": "markdown",
   "metadata": {},
   "source": [
    "8) Untersuchen Sie die Korrelation zwischen Passagier Klasse und den Überleben der Katastrophe. Erstellen Sie eine oder mehrere geeignete Visualisierungen und interpretieren Sie diese."
   ]
  },
  {
   "cell_type": "code",
   "execution_count": 34,
   "metadata": {},
   "outputs": [
    {
     "data": {
      "text/plain": [
       "<matplotlib.legend.Legend at 0x7fa7c0f73f90>"
      ]
     },
     "execution_count": 34,
     "metadata": {},
     "output_type": "execute_result"
    },
    {
     "data": {
      "image/png": "[encoded data removed]",
      "text/plain": [
       "<Figure size 648x432 with 1 Axes>"
      ]
     },
     "metadata": {
      "needs_background": "light"
     },
     "output_type": "display_data"
    }
   ],
   "source": [
    "# TODO implement\n",
    "figure = plt.figure(figsize=(9,6))\n",
    "plt.hist([df[df['Survived']==1]['Pclass'],df[df['Survived']==0]['Pclass']], stacked=False,\n",
    "         bins = 3,label = ['Survived','Dead'])\n",
    "plt.xlabel('Class')\n",
    "plt.ylabel('Number')\n",
    "plt.legend()\n",
    "#Vorallem die Leute in Klasse 3 sind gestorben. Eventuell War Klasse 3 Tiefer im Schiff -> \n",
    "#Keine Fenster -> sind untergegangen\n",
    "#Während Klasse 1 Höher im Schiff war und somit einfacher Raus kam"
   ]
  },
  {
   "cell_type": "code",
   "execution_count": 35,
   "metadata": {},
   "outputs": [
    {
     "data": {
      "text/plain": [
       "<matplotlib.legend.Legend at 0x7fa760cd01d0>"
      ]
     },
     "execution_count": 35,
     "metadata": {},
     "output_type": "execute_result"
    },
    {
     "data": {
      "image/png": "[encoded data removed]",
      "text/plain": [
       "<Figure size 648x432 with 1 Axes>"
      ]
     },
     "metadata": {
      "needs_background": "light"
     },
     "output_type": "display_data"
    }
   ],
   "source": [
    "plt.figure(figsize=(9,6))\n",
    "ax = plt.subplot()\n",
    "ax.scatter(df[df['Survived']==1]['Age'],df[df['Survived']==1]['Pclass'],c='green',s=10)\n",
    "ax.scatter(df[df['Survived']==0]['Age'],df[df['Survived']==0]['Pclass'],c='red',s=10)\n",
    "ax.set_xlabel('Age')\n",
    "ax.set_ylabel('Pclass')\n",
    "ax.legend(('survived','dead'),scatterpoints=1,loc='upper right',fontsize=15,)"
   ]
  },
  {
   "cell_type": "code",
   "execution_count": null,
   "metadata": {},
   "outputs": [],
   "source": []
  }
 ],
 "metadata": {
  "anaconda-cloud": {},
  "kernelspec": {
   "display_name": "Python 3",
   "language": "python",
   "name": "python3"
  },
  "language_info": {
   "codemirror_mode": {
    "name": "ipython",
    "version": 3
   },
   "file_extension": ".py",
   "mimetype": "text/x-python",
   "name": "python",
   "nbconvert_exporter": "python",
   "pygments_lexer": "ipython3",
   "version": "3.7.7"
  }
 },
 "nbformat": 4,
 "nbformat_minor": 2
}
